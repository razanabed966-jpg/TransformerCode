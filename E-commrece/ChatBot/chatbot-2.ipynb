{
 "cells": [
  {
   "cell_type": "code",
   "execution_count": 1,
   "metadata": {
    "colab": {
     "base_uri": "https://localhost:8080/"
    },
    "executionInfo": {
     "elapsed": 26432,
     "status": "ok",
     "timestamp": 1739090314155,
     "user": {
      "displayName": "Abd Alkarim",
      "userId": "03458153634795249349"
     },
     "user_tz": -180
    },
    "id": "QYAmdx5L1u9S",
    "outputId": "b46793fc-e473-4cbf-9f52-b5ecd065652a"
   },
   "outputs": [
    {
     "name": "stdout",
     "output_type": "stream",
     "text": [
      "Mounted at /content/drive\n"
     ]
    }
   ],
   "source": [
    "from google.colab import drive\n",
    "drive.mount('/content/drive')\n",
    "\n",
    "working_folder = '/content/drive/My Drive/TransformersCode/02-ECommerce/chatbot/'"
   ]
  },
  {
   "cell_type": "code",
   "execution_count": 2,
   "metadata": {
    "executionInfo": {
     "elapsed": 34124,
     "status": "ok",
     "timestamp": 1739090650126,
     "user": {
      "displayName": "Abd Alkarim",
      "userId": "03458153634795249349"
     },
     "user_tz": -180
    },
    "id": "saAr--3B1ycm"
   },
   "outputs": [],
   "source": [
    "from transformers import AutoModelForCausalLM, AutoTokenizer\n",
    "\n",
    "model_path = working_folder + \"model_dir\"\n",
    "\n",
    "tokenizer = AutoTokenizer.from_pretrained(model_path)\n",
    "model = AutoModelForCausalLM.from_pretrained(model_path)\n",
    "\n",
    "def answer_question(question, model, tokenizer, max_length=40):\n",
    "\n",
    "    inputs = tokenizer.encode_plus(question, return_tensors='pt', padding=True, truncation=True)\n",
    "    input_ids = inputs['input_ids']\n",
    "    attention_mask = inputs['attention_mask']\n",
    "    #print(inputs)\n",
    "\n",
    "    outputs = model.generate(\n",
    "        input_ids= input_ids,\n",
    "        attention_mask= attention_mask,\n",
    "        max_length=max_length,\n",
    "        num_return_sequences=1,\n",
    "        pad_token_id=tokenizer.eos_token_id,\n",
    "        repetition_penalty=1,\n",
    "    )\n",
    "\n",
    "    #print(outputs)\n",
    "    response = tokenizer.decode(outputs[0], skip_special_tokens=True)\n",
    "    return response"
   ]
  },
  {
   "cell_type": "code",
   "execution_count": 3,
   "metadata": {
    "colab": {
     "base_uri": "https://localhost:8080/"
    },
    "executionInfo": {
     "elapsed": 6440,
     "status": "ok",
     "timestamp": 1739090670635,
     "user": {
      "displayName": "Abd Alkarim",
      "userId": "03458153634795249349"
     },
     "user_tz": -180
    },
    "id": "1i23-EU618BC",
    "outputId": "a3d71105-6b76-40b2-af3a-64ef9906a814"
   },
   "outputs": [
    {
     "name": "stdout",
     "output_type": "stream",
     "text": [
      "َQ/A: Do you have a physical store?No, we are an online-only store. Check our store page for details.\n",
      "\n"
     ]
    }
   ],
   "source": [
    "question = \"Do you have a physical store?\"\n",
    "answer = answer_question(question, model, tokenizer)\n",
    "print(f\"َQ/A: {answer}\\n\")"
   ]
  },
  {
   "cell_type": "code",
   "execution_count": 4,
   "metadata": {
    "colab": {
     "base_uri": "https://localhost:8080/"
    },
    "executionInfo": {
     "elapsed": 1726,
     "status": "ok",
     "timestamp": 1739090744330,
     "user": {
      "displayName": "Abd Alkarim",
      "userId": "03458153634795249349"
     },
     "user_tz": -180
    },
    "id": "yLvG4HK91ye7",
    "outputId": "c9a10baf-8329-487a-970d-15deb285a8a0"
   },
   "outputs": [
    {
     "name": "stdout",
     "output_type": "stream",
     "text": [
      "َQ/A: Any physical store?No physical store is available. Contact us for pricing. Contact us for more information.\n",
      "\n"
     ]
    }
   ],
   "source": [
    "question = \"Any physical store?\"\n",
    "answer = answer_question(question, model, tokenizer)\n",
    "\n",
    "print(f\"َQ/A: {answer}\\n\")"
   ]
  }
 ],
 "metadata": {
  "accelerator": "GPU",
  "colab": {
   "authorship_tag": "ABX9TyOd4n9mJcOBcdIgBzmsQPaB",
   "gpuType": "T4",
   "provenance": []
  },
  "kernelspec": {
   "display_name": "Python 3",
   "name": "python3"
  },
  "language_info": {
   "name": "python"
  }
 },
 "nbformat": 4,
 "nbformat_minor": 0
}
