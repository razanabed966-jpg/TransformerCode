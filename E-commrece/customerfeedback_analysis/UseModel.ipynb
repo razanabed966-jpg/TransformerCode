{
 "cells": [
  {
   "cell_type": "code",
   "execution_count": 1,
   "metadata": {
    "colab": {
     "base_uri": "https://localhost:8080/"
    },
    "executionInfo": {
     "elapsed": 19009,
     "status": "ok",
     "timestamp": 1738396771201,
     "user": {
      "displayName": "Abd Alkarim",
      "userId": "03458153634795249349"
     },
     "user_tz": -180
    },
    "id": "4AbkjRz6by82",
    "outputId": "10976074-f912-463d-c46a-10adfe00c415"
   },
   "outputs": [
    {
     "name": "stdout",
     "output_type": "stream",
     "text": [
      "Mounted at /content/drive\n"
     ]
    }
   ],
   "source": [
    "from google.colab import drive\n",
    "drive.mount('/content/drive')\n",
    "\n",
    "working_folder='/content/drive/My Drive/TransformersCode/02-ECommerce/CustomerFeedbackAnalysis/'\n",
    "\n",
    "\n",
    "save_output = working_folder + \"roberta_base_fine_tuned\""
   ]
  },
  {
   "cell_type": "code",
   "execution_count": 2,
   "metadata": {
    "executionInfo": {
     "elapsed": 24371,
     "status": "ok",
     "timestamp": 1738397013628,
     "user": {
      "displayName": "Abd Alkarim",
      "userId": "03458153634795249349"
     },
     "user_tz": -180
    },
    "id": "MTMf9ktNdS3h"
   },
   "outputs": [],
   "source": [
    "from transformers import RobertaTokenizer, RobertaForSequenceClassification\n",
    "import torch\n",
    "\n",
    "tokenizer_loaded = RobertaTokenizer.from_pretrained(save_output)\n",
    "\n",
    "model_loaded = RobertaForSequenceClassification.from_pretrained(save_output)"
   ]
  },
  {
   "cell_type": "code",
   "execution_count": 3,
   "metadata": {
    "executionInfo": {
     "elapsed": 264,
     "status": "ok",
     "timestamp": 1738397024621,
     "user": {
      "displayName": "Abd Alkarim",
      "userId": "03458153634795249349"
     },
     "user_tz": -180
    },
    "id": "5qqyfUYXiXRa"
   },
   "outputs": [],
   "source": [
    "def classify_text(text, model, tokenizer):\n",
    "\n",
    "  tokenized_input = tokenizer(text, return_tensors=\"pt\", padding=True, truncation=True, max_length=512)\n",
    "\n",
    "  output = model(**tokenized_input)\n",
    "\n",
    "  logits = output.logits\n",
    "\n",
    "  predicted_class = torch.argmax(logits).item()\n",
    "\n",
    "  if predicted_class==0:\n",
    "    return \"Negative\"\n",
    "  elif predicted_class==1:\n",
    "    return \"Neutural\"\n",
    "  else:\n",
    "    return \"Positive\""
   ]
  },
  {
   "cell_type": "code",
   "execution_count": 4,
   "metadata": {
    "colab": {
     "base_uri": "https://localhost:8080/"
    },
    "executionInfo": {
     "elapsed": 2639,
     "status": "ok",
     "timestamp": 1738397085922,
     "user": {
      "displayName": "Abd Alkarim",
      "userId": "03458153634795249349"
     },
     "user_tz": -180
    },
    "id": "vPlwzDV-dS5v",
    "outputId": "c4ebc7fc-723b-48d7-8d96-bbe5e3f7badc"
   },
   "outputs": [
    {
     "name": "stdout",
     "output_type": "stream",
     "text": [
      "Positive\n",
      "Positive\n",
      "Negative\n"
     ]
    }
   ],
   "source": [
    "text1 = \"It's ok\"\n",
    "c1 = classify_text(text1, model_loaded, tokenizer_loaded)\n",
    "print(c1)\n",
    "\n",
    "text2 = \"Awesome\"\n",
    "c2 = classify_text(text2, model_loaded, tokenizer_loaded)\n",
    "print(c2)\n",
    "\n",
    "text3 = \"Dissatisfied Not worth the money\"\n",
    "c3 = classify_text(text3, model_loaded, tokenizer_loaded)\n",
    "print(c3)"
   ]
  }
 ],
 "metadata": {
  "accelerator": "GPU",
  "colab": {
   "authorship_tag": "ABX9TyNFYfpYrWeUG7rJkSt+OEOu",
   "gpuType": "T4",
   "provenance": []
  },
  "kernelspec": {
   "display_name": "Python 3",
   "name": "python3"
  },
  "language_info": {
   "name": "python"
  }
 },
 "nbformat": 4,
 "nbformat_minor": 0
}
