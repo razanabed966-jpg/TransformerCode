{
 "cells": [
  {
   "cell_type": "code",
   "execution_count": 1,
   "metadata": {
    "colab": {
     "base_uri": "https://localhost:8080/"
    },
    "executionInfo": {
     "elapsed": 177687,
     "status": "ok",
     "timestamp": 1740472385730,
     "user": {
      "displayName": "Abd Alkarim",
      "userId": "03458153634795249349"
     },
     "user_tz": -180
    },
    "id": "6QmvW8I6N0_T",
    "outputId": "4c981fc0-df39-4930-c88e-b71d50dc3269"
   },
   "outputs": [
    {
     "name": "stdout",
     "output_type": "stream",
     "text": [
      "Collecting langchain-community\n",
      "  Downloading langchain_community-0.3.18-py3-none-any.whl.metadata (2.4 kB)\n",
      "Requirement already satisfied: langchain-core<1.0.0,>=0.3.37 in /usr/local/lib/python3.11/dist-packages (from langchain-community) (0.3.37)\n",
      "Requirement already satisfied: langchain<1.0.0,>=0.3.19 in /usr/local/lib/python3.11/dist-packages (from langchain-community) (0.3.19)\n",
      "Requirement already satisfied: SQLAlchemy<3,>=1.4 in /usr/local/lib/python3.11/dist-packages (from langchain-community) (2.0.38)\n",
      "Requirement already satisfied: requests<3,>=2 in /usr/local/lib/python3.11/dist-packages (from langchain-community) (2.32.3)\n",
      "Requirement already satisfied: PyYAML>=5.3 in /usr/local/lib/python3.11/dist-packages (from langchain-community) (6.0.2)\n",
      "Requirement already satisfied: aiohttp<4.0.0,>=3.8.3 in /usr/local/lib/python3.11/dist-packages (from langchain-community) (3.11.12)\n",
      "Requirement already satisfied: tenacity!=8.4.0,<10,>=8.1.0 in /usr/local/lib/python3.11/dist-packages (from langchain-community) (9.0.0)\n",
      "Collecting dataclasses-json<0.7,>=0.5.7 (from langchain-community)\n",
      "  Downloading dataclasses_json-0.6.7-py3-none-any.whl.metadata (25 kB)\n",
      "Collecting pydantic-settings<3.0.0,>=2.4.0 (from langchain-community)\n",
      "  Downloading pydantic_settings-2.8.0-py3-none-any.whl.metadata (3.5 kB)\n",
      "Requirement already satisfied: langsmith<0.4,>=0.1.125 in /usr/local/lib/python3.11/dist-packages (from langchain-community) (0.3.8)\n",
      "Collecting httpx-sse<1.0.0,>=0.4.0 (from langchain-community)\n",
      "  Downloading httpx_sse-0.4.0-py3-none-any.whl.metadata (9.0 kB)\n",
      "Requirement already satisfied: numpy<2,>=1.26.4 in /usr/local/lib/python3.11/dist-packages (from langchain-community) (1.26.4)\n",
      "Requirement already satisfied: aiohappyeyeballs>=2.3.0 in /usr/local/lib/python3.11/dist-packages (from aiohttp<4.0.0,>=3.8.3->langchain-community) (2.4.6)\n",
      "Requirement already satisfied: aiosignal>=1.1.2 in /usr/local/lib/python3.11/dist-packages (from aiohttp<4.0.0,>=3.8.3->langchain-community) (1.3.2)\n",
      "Requirement already satisfied: attrs>=17.3.0 in /usr/local/lib/python3.11/dist-packages (from aiohttp<4.0.0,>=3.8.3->langchain-community) (25.1.0)\n",
      "Requirement already satisfied: frozenlist>=1.1.1 in /usr/local/lib/python3.11/dist-packages (from aiohttp<4.0.0,>=3.8.3->langchain-community) (1.5.0)\n",
      "Requirement already satisfied: multidict<7.0,>=4.5 in /usr/local/lib/python3.11/dist-packages (from aiohttp<4.0.0,>=3.8.3->langchain-community) (6.1.0)\n",
      "Requirement already satisfied: propcache>=0.2.0 in /usr/local/lib/python3.11/dist-packages (from aiohttp<4.0.0,>=3.8.3->langchain-community) (0.2.1)\n",
      "Requirement already satisfied: yarl<2.0,>=1.17.0 in /usr/local/lib/python3.11/dist-packages (from aiohttp<4.0.0,>=3.8.3->langchain-community) (1.18.3)\n",
      "Collecting marshmallow<4.0.0,>=3.18.0 (from dataclasses-json<0.7,>=0.5.7->langchain-community)\n",
      "  Downloading marshmallow-3.26.1-py3-none-any.whl.metadata (7.3 kB)\n",
      "Collecting typing-inspect<1,>=0.4.0 (from dataclasses-json<0.7,>=0.5.7->langchain-community)\n",
      "  Downloading typing_inspect-0.9.0-py3-none-any.whl.metadata (1.5 kB)\n",
      "Requirement already satisfied: langchain-text-splitters<1.0.0,>=0.3.6 in /usr/local/lib/python3.11/dist-packages (from langchain<1.0.0,>=0.3.19->langchain-community) (0.3.6)\n",
      "Requirement already satisfied: pydantic<3.0.0,>=2.7.4 in /usr/local/lib/python3.11/dist-packages (from langchain<1.0.0,>=0.3.19->langchain-community) (2.10.6)\n",
      "Requirement already satisfied: jsonpatch<2.0,>=1.33 in /usr/local/lib/python3.11/dist-packages (from langchain-core<1.0.0,>=0.3.37->langchain-community) (1.33)\n",
      "Requirement already satisfied: packaging<25,>=23.2 in /usr/local/lib/python3.11/dist-packages (from langchain-core<1.0.0,>=0.3.37->langchain-community) (24.2)\n",
      "Requirement already satisfied: typing-extensions>=4.7 in /usr/local/lib/python3.11/dist-packages (from langchain-core<1.0.0,>=0.3.37->langchain-community) (4.12.2)\n",
      "Requirement already satisfied: httpx<1,>=0.23.0 in /usr/local/lib/python3.11/dist-packages (from langsmith<0.4,>=0.1.125->langchain-community) (0.28.1)\n",
      "Requirement already satisfied: orjson<4.0.0,>=3.9.14 in /usr/local/lib/python3.11/dist-packages (from langsmith<0.4,>=0.1.125->langchain-community) (3.10.15)\n",
      "Requirement already satisfied: requests-toolbelt<2.0.0,>=1.0.0 in /usr/local/lib/python3.11/dist-packages (from langsmith<0.4,>=0.1.125->langchain-community) (1.0.0)\n",
      "Requirement already satisfied: zstandard<0.24.0,>=0.23.0 in /usr/local/lib/python3.11/dist-packages (from langsmith<0.4,>=0.1.125->langchain-community) (0.23.0)\n",
      "Collecting python-dotenv>=0.21.0 (from pydantic-settings<3.0.0,>=2.4.0->langchain-community)\n",
      "  Downloading python_dotenv-1.0.1-py3-none-any.whl.metadata (23 kB)\n",
      "Requirement already satisfied: charset-normalizer<4,>=2 in /usr/local/lib/python3.11/dist-packages (from requests<3,>=2->langchain-community) (3.4.1)\n",
      "Requirement already satisfied: idna<4,>=2.5 in /usr/local/lib/python3.11/dist-packages (from requests<3,>=2->langchain-community) (3.10)\n",
      "Requirement already satisfied: urllib3<3,>=1.21.1 in /usr/local/lib/python3.11/dist-packages (from requests<3,>=2->langchain-community) (2.3.0)\n",
      "Requirement already satisfied: certifi>=2017.4.17 in /usr/local/lib/python3.11/dist-packages (from requests<3,>=2->langchain-community) (2025.1.31)\n",
      "Requirement already satisfied: greenlet!=0.4.17 in /usr/local/lib/python3.11/dist-packages (from SQLAlchemy<3,>=1.4->langchain-community) (3.1.1)\n",
      "Requirement already satisfied: anyio in /usr/local/lib/python3.11/dist-packages (from httpx<1,>=0.23.0->langsmith<0.4,>=0.1.125->langchain-community) (3.7.1)\n",
      "Requirement already satisfied: httpcore==1.* in /usr/local/lib/python3.11/dist-packages (from httpx<1,>=0.23.0->langsmith<0.4,>=0.1.125->langchain-community) (1.0.7)\n",
      "Requirement already satisfied: h11<0.15,>=0.13 in /usr/local/lib/python3.11/dist-packages (from httpcore==1.*->httpx<1,>=0.23.0->langsmith<0.4,>=0.1.125->langchain-community) (0.14.0)\n",
      "Requirement already satisfied: jsonpointer>=1.9 in /usr/local/lib/python3.11/dist-packages (from jsonpatch<2.0,>=1.33->langchain-core<1.0.0,>=0.3.37->langchain-community) (3.0.0)\n",
      "Requirement already satisfied: annotated-types>=0.6.0 in /usr/local/lib/python3.11/dist-packages (from pydantic<3.0.0,>=2.7.4->langchain<1.0.0,>=0.3.19->langchain-community) (0.7.0)\n",
      "Requirement already satisfied: pydantic-core==2.27.2 in /usr/local/lib/python3.11/dist-packages (from pydantic<3.0.0,>=2.7.4->langchain<1.0.0,>=0.3.19->langchain-community) (2.27.2)\n",
      "Collecting mypy-extensions>=0.3.0 (from typing-inspect<1,>=0.4.0->dataclasses-json<0.7,>=0.5.7->langchain-community)\n",
      "  Downloading mypy_extensions-1.0.0-py3-none-any.whl.metadata (1.1 kB)\n",
      "Requirement already satisfied: sniffio>=1.1 in /usr/local/lib/python3.11/dist-packages (from anyio->httpx<1,>=0.23.0->langsmith<0.4,>=0.1.125->langchain-community) (1.3.1)\n",
      "Downloading langchain_community-0.3.18-py3-none-any.whl (2.5 MB)\n",
      "\u001b[2K   \u001b[90m━━━━━━━━━━━━━━━━━━━━━━━━━━━━━━━━━━━━━━━━\u001b[0m \u001b[32m2.5/2.5 MB\u001b[0m \u001b[31m32.5 MB/s\u001b[0m eta \u001b[36m0:00:00\u001b[0m\n",
      "\u001b[?25hDownloading dataclasses_json-0.6.7-py3-none-any.whl (28 kB)\n",
      "Downloading httpx_sse-0.4.0-py3-none-any.whl (7.8 kB)\n",
      "Downloading pydantic_settings-2.8.0-py3-none-any.whl (30 kB)\n",
      "Downloading marshmallow-3.26.1-py3-none-any.whl (50 kB)\n",
      "\u001b[2K   \u001b[90m━━━━━━━━━━━━━━━━━━━━━━━━━━━━━━━━━━━━━━━━\u001b[0m \u001b[32m50.9/50.9 kB\u001b[0m \u001b[31m2.1 MB/s\u001b[0m eta \u001b[36m0:00:00\u001b[0m\n",
      "\u001b[?25hDownloading python_dotenv-1.0.1-py3-none-any.whl (19 kB)\n",
      "Downloading typing_inspect-0.9.0-py3-none-any.whl (8.8 kB)\n",
      "Downloading mypy_extensions-1.0.0-py3-none-any.whl (4.7 kB)\n",
      "Installing collected packages: python-dotenv, mypy-extensions, marshmallow, httpx-sse, typing-inspect, pydantic-settings, dataclasses-json, langchain-community\n",
      "Successfully installed dataclasses-json-0.6.7 httpx-sse-0.4.0 langchain-community-0.3.18 marshmallow-3.26.1 mypy-extensions-1.0.0 pydantic-settings-2.8.0 python-dotenv-1.0.1 typing-inspect-0.9.0\n",
      "Collecting llama-cpp-python\n",
      "  Downloading llama_cpp_python-0.3.7.tar.gz (66.7 MB)\n",
      "\u001b[2K     \u001b[90m━━━━━━━━━━━━━━━━━━━━━━━━━━━━━━━━━━━━━━━━\u001b[0m \u001b[32m66.7/66.7 MB\u001b[0m \u001b[31m13.7 MB/s\u001b[0m eta \u001b[36m0:00:00\u001b[0m\n",
      "\u001b[?25h  Installing build dependencies ... \u001b[?25l\u001b[?25hdone\n",
      "  Getting requirements to build wheel ... \u001b[?25l\u001b[?25hdone\n",
      "  Installing backend dependencies ... \u001b[?25l\u001b[?25hdone\n",
      "  Preparing metadata (pyproject.toml) ... \u001b[?25l\u001b[?25hdone\n",
      "Requirement already satisfied: typing-extensions>=4.5.0 in /usr/local/lib/python3.11/dist-packages (from llama-cpp-python) (4.12.2)\n",
      "Requirement already satisfied: numpy>=1.20.0 in /usr/local/lib/python3.11/dist-packages (from llama-cpp-python) (1.26.4)\n",
      "Collecting diskcache>=5.6.1 (from llama-cpp-python)\n",
      "  Downloading diskcache-5.6.3-py3-none-any.whl.metadata (20 kB)\n",
      "Requirement already satisfied: jinja2>=2.11.3 in /usr/local/lib/python3.11/dist-packages (from llama-cpp-python) (3.1.5)\n",
      "Requirement already satisfied: MarkupSafe>=2.0 in /usr/local/lib/python3.11/dist-packages (from jinja2>=2.11.3->llama-cpp-python) (3.0.2)\n",
      "Downloading diskcache-5.6.3-py3-none-any.whl (45 kB)\n",
      "\u001b[2K   \u001b[90m━━━━━━━━━━━━━━━━━━━━━━━━━━━━━━━━━━━━━━━━\u001b[0m \u001b[32m45.5/45.5 kB\u001b[0m \u001b[31m3.9 MB/s\u001b[0m eta \u001b[36m0:00:00\u001b[0m\n",
      "\u001b[?25hBuilding wheels for collected packages: llama-cpp-python\n",
      "  Building wheel for llama-cpp-python (pyproject.toml) ... \u001b[?25l\u001b[?25hdone\n",
      "  Created wheel for llama-cpp-python: filename=llama_cpp_python-0.3.7-cp311-cp311-linux_x86_64.whl size=4601118 sha256=a8fdb340638f30b83ffa7f6519b575bf66974d305fb35ad0ecbdc47f3f163ae8\n",
      "  Stored in directory: /root/.cache/pip/wheels/eb/82/79/ac77fcd49324b75ae6aa18e63a87cf9da4371a57e2cdc8dc03\n",
      "Successfully built llama-cpp-python\n",
      "Installing collected packages: diskcache, llama-cpp-python\n",
      "Successfully installed diskcache-5.6.3 llama-cpp-python-0.3.7\n"
     ]
    }
   ],
   "source": [
    "!pip install langchain-community\n",
    "!pip install llama-cpp-python"
   ]
  },
  {
   "cell_type": "code",
   "execution_count": 2,
   "metadata": {
    "executionInfo": {
     "elapsed": 1242,
     "status": "ok",
     "timestamp": 1740472614038,
     "user": {
      "displayName": "Abd Alkarim",
      "userId": "03458153634795249349"
     },
     "user_tz": -180
    },
    "id": "DKg86qLiN2BZ"
   },
   "outputs": [],
   "source": [
    "from langchain_community.llms import LlamaCpp"
   ]
  },
  {
   "cell_type": "code",
   "execution_count": 3,
   "metadata": {
    "colab": {
     "base_uri": "https://localhost:8080/"
    },
    "executionInfo": {
     "elapsed": 17357,
     "status": "ok",
     "timestamp": 1740472641147,
     "user": {
      "displayName": "Abd Alkarim",
      "userId": "03458153634795249349"
     },
     "user_tz": -180
    },
    "id": "tpH1vysKN2D0",
    "outputId": "b711ffa2-8237-4818-82b8-527a1544a8c5"
   },
   "outputs": [
    {
     "name": "stdout",
     "output_type": "stream",
     "text": [
      "Mounted at /content/drive\n"
     ]
    }
   ],
   "source": [
    "from google.colab import drive\n",
    "drive.mount('/content/drive')"
   ]
  },
  {
   "cell_type": "code",
   "execution_count": 4,
   "metadata": {
    "executionInfo": {
     "elapsed": 4,
     "status": "ok",
     "timestamp": 1740472643829,
     "user": {
      "displayName": "Abd Alkarim",
      "userId": "03458153634795249349"
     },
     "user_tz": -180
    },
    "id": "qpRao0TPN2GL"
   },
   "outputs": [],
   "source": [
    "working_folder = '/content/drive/MyDrive/TransformersCode/04-hotel/'"
   ]
  },
  {
   "cell_type": "code",
   "execution_count": 5,
   "metadata": {
    "executionInfo": {
     "elapsed": 3,
     "status": "ok",
     "timestamp": 1740472693400,
     "user": {
      "displayName": "Abd Alkarim",
      "userId": "03458153634795249349"
     },
     "user_tz": -180
    },
    "id": "yW6L2hg5N2Ih"
   },
   "outputs": [],
   "source": [
    "model_path = working_folder + \"model/Meta-Llama-3-8B-Instruct-Q4_K_M.gguf\""
   ]
  },
  {
   "cell_type": "code",
   "execution_count": 6,
   "metadata": {
    "colab": {
     "base_uri": "https://localhost:8080/"
    },
    "executionInfo": {
     "elapsed": 79176,
     "status": "ok",
     "timestamp": 1740472836628,
     "user": {
      "displayName": "Abd Alkarim",
      "userId": "03458153634795249349"
     },
     "user_tz": -180
    },
    "id": "toxBw9zKN2K0",
    "outputId": "060de9a6-8ea1-4cd3-d312-937589b156f3"
   },
   "outputs": [
    {
     "name": "stderr",
     "output_type": "stream",
     "text": [
      "llama_model_loader: loaded meta data with 22 key-value pairs and 291 tensors from /content/drive/MyDrive/TransformersCode/04-hotel/model/Meta-Llama-3-8B-Instruct-Q4_K_M.gguf (version GGUF V3 (latest))\n",
      "llama_model_loader: Dumping metadata keys/values. Note: KV overrides do not apply in this output.\n",
      "llama_model_loader: - kv   0:                       general.architecture str              = llama\n",
      "llama_model_loader: - kv   1:                               general.name str              = ..\n",
      "llama_model_loader: - kv   2:                           llama.vocab_size u32              = 128256\n",
      "llama_model_loader: - kv   3:                       llama.context_length u32              = 8192\n",
      "llama_model_loader: - kv   4:                     llama.embedding_length u32              = 4096\n",
      "llama_model_loader: - kv   5:                          llama.block_count u32              = 32\n",
      "llama_model_loader: - kv   6:                  llama.feed_forward_length u32              = 14336\n",
      "llama_model_loader: - kv   7:                 llama.rope.dimension_count u32              = 128\n",
      "llama_model_loader: - kv   8:                 llama.attention.head_count u32              = 32\n",
      "llama_model_loader: - kv   9:              llama.attention.head_count_kv u32              = 8\n",
      "llama_model_loader: - kv  10:     llama.attention.layer_norm_rms_epsilon f32              = 0.000010\n",
      "llama_model_loader: - kv  11:                       llama.rope.freq_base f32              = 500000.000000\n",
      "llama_model_loader: - kv  12:                          general.file_type u32              = 15\n",
      "llama_model_loader: - kv  13:                       tokenizer.ggml.model str              = gpt2\n",
      "llama_model_loader: - kv  14:                      tokenizer.ggml.tokens arr[str,128256]  = [\"!\", \"\\\"\", \"#\", \"$\", \"%\", \"&\", \"'\", ...\n",
      "llama_model_loader: - kv  15:                      tokenizer.ggml.scores arr[f32,128256]  = [0.000000, 0.000000, 0.000000, 0.0000...\n",
      "llama_model_loader: - kv  16:                  tokenizer.ggml.token_type arr[i32,128256]  = [1, 1, 1, 1, 1, 1, 1, 1, 1, 1, 1, 1, ...\n",
      "llama_model_loader: - kv  17:                      tokenizer.ggml.merges arr[str,280147]  = [\"Ġ Ġ\", \"Ġ ĠĠĠ\", \"ĠĠ ĠĠ\", \"...\n",
      "llama_model_loader: - kv  18:                tokenizer.ggml.bos_token_id u32              = 128000\n",
      "llama_model_loader: - kv  19:                tokenizer.ggml.eos_token_id u32              = 128009\n",
      "llama_model_loader: - kv  20:                    tokenizer.chat_template str              = {% set loop_messages = messages %}{% ...\n",
      "llama_model_loader: - kv  21:               general.quantization_version u32              = 2\n",
      "llama_model_loader: - type  f32:   65 tensors\n",
      "llama_model_loader: - type q4_K:  193 tensors\n",
      "llama_model_loader: - type q6_K:   33 tensors\n",
      "print_info: file format = GGUF V3 (latest)\n",
      "print_info: file type   = Q4_K - Medium\n",
      "print_info: file size   = 4.58 GiB (4.89 BPW) \n",
      "load: missing pre-tokenizer type, using: 'default'\n",
      "load:                                             \n",
      "load: ************************************        \n",
      "load: GENERATION QUALITY WILL BE DEGRADED!        \n",
      "load: CONSIDER REGENERATING THE MODEL             \n",
      "load: ************************************        \n",
      "load:                                             \n",
      "init_tokenizer: initializing tokenizer for type 2\n",
      "load: control token: 128255 '<|reserved_special_token_250|>' is not marked as EOG\n",
      "load: control token: 128254 '<|reserved_special_token_249|>' is not marked as EOG\n",
      "load: control token: 128253 '<|reserved_special_token_248|>' is not marked as EOG\n",
      "load: control token: 128251 '<|reserved_special_token_246|>' is not marked as EOG\n",
      "load: control token: 128246 '<|reserved_special_token_241|>' is not marked as EOG\n",
      "load: control token: 128243 '<|reserved_special_token_238|>' is not marked as EOG\n",
      "load: control token: 128240 '<|reserved_special_token_235|>' is not marked as EOG\n",
      "load: control token: 128239 '<|reserved_special_token_234|>' is not marked as EOG\n",
      "load: control token: 128238 '<|reserved_special_token_233|>' is not marked as EOG\n",
      "load: control token: 128237 '<|reserved_special_token_232|>' is not marked as EOG\n",
      "load: control token: 128232 '<|reserved_special_token_227|>' is not marked as EOG\n",
      "load: control token: 128228 '<|reserved_special_token_223|>' is not marked as EOG\n",
      "load: control token: 128227 '<|reserved_special_token_222|>' is not marked as EOG\n",
      "load: control token: 128225 '<|reserved_special_token_220|>' is not marked as EOG\n",
      "load: control token: 128222 '<|reserved_special_token_217|>' is not marked as EOG\n",
      "load: control token: 128215 '<|reserved_special_token_210|>' is not marked as EOG\n",
      "load: control token: 128211 '<|reserved_special_token_206|>' is not marked as EOG\n",
      "load: control token: 128210 '<|reserved_special_token_205|>' is not marked as EOG\n",
      "load: control token: 128204 '<|reserved_special_token_199|>' is not marked as EOG\n",
      "load: control token: 128203 '<|reserved_special_token_198|>' is not marked as EOG\n",
      "load: control token: 128201 '<|reserved_special_token_196|>' is not marked as EOG\n",
      "load: control token: 128197 '<|reserved_special_token_192|>' is not marked as EOG\n",
      "load: control token: 128196 '<|reserved_special_token_191|>' is not marked as EOG\n",
      "load: control token: 128195 '<|reserved_special_token_190|>' is not marked as EOG\n",
      "load: control token: 128193 '<|reserved_special_token_188|>' is not marked as EOG\n",
      "load: control token: 128191 '<|reserved_special_token_186|>' is not marked as EOG\n",
      "load: control token: 128190 '<|reserved_special_token_185|>' is not marked as EOG\n",
      "load: control token: 128185 '<|reserved_special_token_180|>' is not marked as EOG\n",
      "load: control token: 128184 '<|reserved_special_token_179|>' is not marked as EOG\n",
      "load: control token: 128182 '<|reserved_special_token_177|>' is not marked as EOG\n",
      "load: control token: 128181 '<|reserved_special_token_176|>' is not marked as EOG\n",
      "load: control token: 128177 '<|reserved_special_token_172|>' is not marked as EOG\n",
      "load: control token: 128176 '<|reserved_special_token_171|>' is not marked as EOG\n",
      "load: control token: 128175 '<|reserved_special_token_170|>' is not marked as EOG\n",
      "load: control token: 128174 '<|reserved_special_token_169|>' is not marked as EOG\n",
      "load: control token: 128173 '<|reserved_special_token_168|>' is not marked as EOG\n",
      "load: control token: 128172 '<|reserved_special_token_167|>' is not marked as EOG\n",
      "load: control token: 128168 '<|reserved_special_token_163|>' is not marked as EOG\n",
      "load: control token: 128167 '<|reserved_special_token_162|>' is not marked as EOG\n",
      "load: control token: 128166 '<|reserved_special_token_161|>' is not marked as EOG\n",
      "load: control token: 128165 '<|reserved_special_token_160|>' is not marked as EOG\n",
      "load: control token: 128162 '<|reserved_special_token_157|>' is not marked as EOG\n",
      "load: control token: 128159 '<|reserved_special_token_154|>' is not marked as EOG\n",
      "load: control token: 128155 '<|reserved_special_token_150|>' is not marked as EOG\n",
      "load: control token: 128153 '<|reserved_special_token_148|>' is not marked as EOG\n",
      "load: control token: 128152 '<|reserved_special_token_147|>' is not marked as EOG\n",
      "load: control token: 128151 '<|reserved_special_token_146|>' is not marked as EOG\n",
      "load: control token: 128148 '<|reserved_special_token_143|>' is not marked as EOG\n",
      "load: control token: 128146 '<|reserved_special_token_141|>' is not marked as EOG\n",
      "load: control token: 128144 '<|reserved_special_token_139|>' is not marked as EOG\n",
      "load: control token: 128143 '<|reserved_special_token_138|>' is not marked as EOG\n",
      "load: control token: 128141 '<|reserved_special_token_136|>' is not marked as EOG\n",
      "load: control token: 128139 '<|reserved_special_token_134|>' is not marked as EOG\n",
      "load: control token: 128138 '<|reserved_special_token_133|>' is not marked as EOG\n",
      "load: control token: 128135 '<|reserved_special_token_130|>' is not marked as EOG\n",
      "load: control token: 128133 '<|reserved_special_token_128|>' is not marked as EOG\n",
      "load: control token: 128132 '<|reserved_special_token_127|>' is not marked as EOG\n",
      "load: control token: 128131 '<|reserved_special_token_126|>' is not marked as EOG\n",
      "load: control token: 128130 '<|reserved_special_token_125|>' is not marked as EOG\n",
      "load: control token: 128128 '<|reserved_special_token_123|>' is not marked as EOG\n",
      "load: control token: 128125 '<|reserved_special_token_120|>' is not marked as EOG\n",
      "load: control token: 128121 '<|reserved_special_token_116|>' is not marked as EOG\n",
      "load: control token: 128120 '<|reserved_special_token_115|>' is not marked as EOG\n",
      "load: control token: 128119 '<|reserved_special_token_114|>' is not marked as EOG\n",
      "load: control token: 128116 '<|reserved_special_token_111|>' is not marked as EOG\n",
      "load: control token: 128112 '<|reserved_special_token_107|>' is not marked as EOG\n",
      "load: control token: 128109 '<|reserved_special_token_104|>' is not marked as EOG\n",
      "load: control token: 128107 '<|reserved_special_token_102|>' is not marked as EOG\n",
      "load: control token: 128106 '<|reserved_special_token_101|>' is not marked as EOG\n",
      "load: control token: 128105 '<|reserved_special_token_100|>' is not marked as EOG\n",
      "load: control token: 128103 '<|reserved_special_token_98|>' is not marked as EOG\n",
      "load: control token: 128100 '<|reserved_special_token_95|>' is not marked as EOG\n",
      "load: control token: 128099 '<|reserved_special_token_94|>' is not marked as EOG\n",
      "load: control token: 128098 '<|reserved_special_token_93|>' is not marked as EOG\n",
      "load: control token: 128094 '<|reserved_special_token_89|>' is not marked as EOG\n",
      "load: control token: 128088 '<|reserved_special_token_83|>' is not marked as EOG\n",
      "load: control token: 128087 '<|reserved_special_token_82|>' is not marked as EOG\n",
      "load: control token: 128086 '<|reserved_special_token_81|>' is not marked as EOG\n",
      "load: control token: 128084 '<|reserved_special_token_79|>' is not marked as EOG\n",
      "load: control token: 128082 '<|reserved_special_token_77|>' is not marked as EOG\n",
      "load: control token: 128078 '<|reserved_special_token_73|>' is not marked as EOG\n",
      "load: control token: 128075 '<|reserved_special_token_70|>' is not marked as EOG\n",
      "load: control token: 128073 '<|reserved_special_token_68|>' is not marked as EOG\n",
      "load: control token: 128072 '<|reserved_special_token_67|>' is not marked as EOG\n",
      "load: control token: 128070 '<|reserved_special_token_65|>' is not marked as EOG\n",
      "load: control token: 128065 '<|reserved_special_token_60|>' is not marked as EOG\n",
      "load: control token: 128064 '<|reserved_special_token_59|>' is not marked as EOG\n",
      "load: control token: 128062 '<|reserved_special_token_57|>' is not marked as EOG\n",
      "load: control token: 128060 '<|reserved_special_token_55|>' is not marked as EOG\n",
      "load: control token: 128059 '<|reserved_special_token_54|>' is not marked as EOG\n",
      "load: control token: 128057 '<|reserved_special_token_52|>' is not marked as EOG\n",
      "load: control token: 128056 '<|reserved_special_token_51|>' is not marked as EOG\n",
      "load: control token: 128054 '<|reserved_special_token_49|>' is not marked as EOG\n",
      "load: control token: 128051 '<|reserved_special_token_46|>' is not marked as EOG\n",
      "load: control token: 128043 '<|reserved_special_token_38|>' is not marked as EOG\n",
      "load: control token: 128042 '<|reserved_special_token_37|>' is not marked as EOG\n",
      "load: control token: 128041 '<|reserved_special_token_36|>' is not marked as EOG\n",
      "load: control token: 128040 '<|reserved_special_token_35|>' is not marked as EOG\n",
      "load: control token: 128035 '<|reserved_special_token_30|>' is not marked as EOG\n",
      "load: control token: 128033 '<|reserved_special_token_28|>' is not marked as EOG\n",
      "load: control token: 128032 '<|reserved_special_token_27|>' is not marked as EOG\n",
      "load: control token: 128029 '<|reserved_special_token_24|>' is not marked as EOG\n",
      "load: control token: 128025 '<|reserved_special_token_20|>' is not marked as EOG\n",
      "load: control token: 128024 '<|reserved_special_token_19|>' is not marked as EOG\n",
      "load: control token: 128021 '<|reserved_special_token_16|>' is not marked as EOG\n",
      "load: control token: 128020 '<|reserved_special_token_15|>' is not marked as EOG\n",
      "load: control token: 128019 '<|reserved_special_token_14|>' is not marked as EOG\n",
      "load: control token: 128018 '<|reserved_special_token_13|>' is not marked as EOG\n",
      "load: control token: 128015 '<|reserved_special_token_10|>' is not marked as EOG\n",
      "load: control token: 128013 '<|reserved_special_token_8|>' is not marked as EOG\n",
      "load: control token: 128012 '<|reserved_special_token_7|>' is not marked as EOG\n",
      "load: control token: 128010 '<|reserved_special_token_5|>' is not marked as EOG\n",
      "load: control token: 128005 '<|reserved_special_token_3|>' is not marked as EOG\n",
      "load: control token: 128004 '<|reserved_special_token_2|>' is not marked as EOG\n",
      "load: control token: 128002 '<|reserved_special_token_0|>' is not marked as EOG\n",
      "load: control token: 128249 '<|reserved_special_token_244|>' is not marked as EOG\n",
      "load: control token: 128187 '<|reserved_special_token_182|>' is not marked as EOG\n",
      "load: control token: 128180 '<|reserved_special_token_175|>' is not marked as EOG\n",
      "load: control token: 128134 '<|reserved_special_token_129|>' is not marked as EOG\n",
      "load: control token: 128179 '<|reserved_special_token_174|>' is not marked as EOG\n",
      "load: control token: 128037 '<|reserved_special_token_32|>' is not marked as EOG\n",
      "load: control token: 128045 '<|reserved_special_token_40|>' is not marked as EOG\n",
      "load: control token: 128089 '<|reserved_special_token_84|>' is not marked as EOG\n",
      "load: control token: 128212 '<|reserved_special_token_207|>' is not marked as EOG\n",
      "load: control token: 128104 '<|reserved_special_token_99|>' is not marked as EOG\n",
      "load: control token: 128205 '<|reserved_special_token_200|>' is not marked as EOG\n",
      "load: control token: 128142 '<|reserved_special_token_137|>' is not marked as EOG\n",
      "load: control token: 128028 '<|reserved_special_token_23|>' is not marked as EOG\n",
      "load: control token: 128126 '<|reserved_special_token_121|>' is not marked as EOG\n",
      "load: control token: 128198 '<|reserved_special_token_193|>' is not marked as EOG\n",
      "load: control token: 128071 '<|reserved_special_token_66|>' is not marked as EOG\n",
      "load: control token: 128092 '<|reserved_special_token_87|>' is not marked as EOG\n",
      "load: control token: 128183 '<|reserved_special_token_178|>' is not marked as EOG\n",
      "load: control token: 128140 '<|reserved_special_token_135|>' is not marked as EOG\n",
      "load: control token: 128226 '<|reserved_special_token_221|>' is not marked as EOG\n",
      "load: control token: 128007 '<|end_header_id|>' is not marked as EOG\n",
      "load: control token: 128052 '<|reserved_special_token_47|>' is not marked as EOG\n",
      "load: control token: 128053 '<|reserved_special_token_48|>' is not marked as EOG\n",
      "load: control token: 128058 '<|reserved_special_token_53|>' is not marked as EOG\n",
      "load: control token: 128150 '<|reserved_special_token_145|>' is not marked as EOG\n",
      "load: control token: 128149 '<|reserved_special_token_144|>' is not marked as EOG\n",
      "load: control token: 128209 '<|reserved_special_token_204|>' is not marked as EOG\n",
      "load: control token: 128169 '<|reserved_special_token_164|>' is not marked as EOG\n",
      "load: control token: 128157 '<|reserved_special_token_152|>' is not marked as EOG\n",
      "load: control token: 128038 '<|reserved_special_token_33|>' is not marked as EOG\n",
      "load: control token: 128178 '<|reserved_special_token_173|>' is not marked as EOG\n",
      "load: control token: 128091 '<|reserved_special_token_86|>' is not marked as EOG\n",
      "load: control token: 128115 '<|reserved_special_token_110|>' is not marked as EOG\n",
      "load: control token: 128233 '<|reserved_special_token_228|>' is not marked as EOG\n",
      "load: control token: 128145 '<|reserved_special_token_140|>' is not marked as EOG\n",
      "load: control token: 128039 '<|reserved_special_token_34|>' is not marked as EOG\n",
      "load: control token: 128136 '<|reserved_special_token_131|>' is not marked as EOG\n",
      "load: control token: 128170 '<|reserved_special_token_165|>' is not marked as EOG\n",
      "load: control token: 128236 '<|reserved_special_token_231|>' is not marked as EOG\n",
      "load: control token: 128154 '<|reserved_special_token_149|>' is not marked as EOG\n",
      "load: control token: 128049 '<|reserved_special_token_44|>' is not marked as EOG\n",
      "load: control token: 128023 '<|reserved_special_token_18|>' is not marked as EOG\n",
      "load: control token: 128003 '<|reserved_special_token_1|>' is not marked as EOG\n",
      "load: control token: 128016 '<|reserved_special_token_11|>' is not marked as EOG\n",
      "load: control token: 128113 '<|reserved_special_token_108|>' is not marked as EOG\n",
      "load: control token: 128158 '<|reserved_special_token_153|>' is not marked as EOG\n",
      "load: control token: 128223 '<|reserved_special_token_218|>' is not marked as EOG\n",
      "load: control token: 128156 '<|reserved_special_token_151|>' is not marked as EOG\n",
      "load: control token: 128008 '<|reserved_special_token_4|>' is not marked as EOG\n",
      "load: control token: 128085 '<|reserved_special_token_80|>' is not marked as EOG\n",
      "load: control token: 128160 '<|reserved_special_token_155|>' is not marked as EOG\n",
      "load: control token: 128001 '<|end_of_text|>' is not marked as EOG\n",
      "load: control token: 128110 '<|reserved_special_token_105|>' is not marked as EOG\n",
      "load: control token: 128247 '<|reserved_special_token_242|>' is not marked as EOG\n",
      "load: control token: 128122 '<|reserved_special_token_117|>' is not marked as EOG\n",
      "load: control token: 128050 '<|reserved_special_token_45|>' is not marked as EOG\n",
      "load: control token: 128221 '<|reserved_special_token_216|>' is not marked as EOG\n",
      "load: control token: 128244 '<|reserved_special_token_239|>' is not marked as EOG\n",
      "load: control token: 128248 '<|reserved_special_token_243|>' is not marked as EOG\n",
      "load: control token: 128213 '<|reserved_special_token_208|>' is not marked as EOG\n",
      "load: control token: 128006 '<|start_header_id|>' is not marked as EOG\n",
      "load: control token: 128208 '<|reserved_special_token_203|>' is not marked as EOG\n",
      "load: control token: 128074 '<|reserved_special_token_69|>' is not marked as EOG\n",
      "load: control token: 128234 '<|reserved_special_token_229|>' is not marked as EOG\n",
      "load: control token: 128083 '<|reserved_special_token_78|>' is not marked as EOG\n",
      "load: control token: 128224 '<|reserved_special_token_219|>' is not marked as EOG\n",
      "load: control token: 128055 '<|reserved_special_token_50|>' is not marked as EOG\n",
      "load: control token: 128097 '<|reserved_special_token_92|>' is not marked as EOG\n",
      "load: control token: 128206 '<|reserved_special_token_201|>' is not marked as EOG\n",
      "load: control token: 128081 '<|reserved_special_token_76|>' is not marked as EOG\n",
      "load: control token: 128068 '<|reserved_special_token_63|>' is not marked as EOG\n",
      "load: control token: 128067 '<|reserved_special_token_62|>' is not marked as EOG\n",
      "load: control token: 128046 '<|reserved_special_token_41|>' is not marked as EOG\n",
      "load: control token: 128194 '<|reserved_special_token_189|>' is not marked as EOG\n",
      "load: control token: 128069 '<|reserved_special_token_64|>' is not marked as EOG\n",
      "load: control token: 128000 '<|begin_of_text|>' is not marked as EOG\n",
      "load: control token: 128220 '<|reserved_special_token_215|>' is not marked as EOG\n",
      "load: control token: 128214 '<|reserved_special_token_209|>' is not marked as EOG\n",
      "load: control token: 128108 '<|reserved_special_token_103|>' is not marked as EOG\n",
      "load: control token: 128200 '<|reserved_special_token_195|>' is not marked as EOG\n",
      "load: control token: 128048 '<|reserved_special_token_43|>' is not marked as EOG\n",
      "load: control token: 128027 '<|reserved_special_token_22|>' is not marked as EOG\n",
      "load: control token: 128114 '<|reserved_special_token_109|>' is not marked as EOG\n",
      "load: control token: 128235 '<|reserved_special_token_230|>' is not marked as EOG\n",
      "load: control token: 128252 '<|reserved_special_token_247|>' is not marked as EOG\n",
      "load: control token: 128199 '<|reserved_special_token_194|>' is not marked as EOG\n",
      "load: control token: 128129 '<|reserved_special_token_124|>' is not marked as EOG\n",
      "load: control token: 128245 '<|reserved_special_token_240|>' is not marked as EOG\n",
      "load: control token: 128164 '<|reserved_special_token_159|>' is not marked as EOG\n",
      "load: control token: 128124 '<|reserved_special_token_119|>' is not marked as EOG\n",
      "load: control token: 128102 '<|reserved_special_token_97|>' is not marked as EOG\n",
      "load: control token: 128036 '<|reserved_special_token_31|>' is not marked as EOG\n",
      "load: control token: 128229 '<|reserved_special_token_224|>' is not marked as EOG\n",
      "load: control token: 128163 '<|reserved_special_token_158|>' is not marked as EOG\n",
      "load: control token: 128127 '<|reserved_special_token_122|>' is not marked as EOG\n",
      "load: control token: 128111 '<|reserved_special_token_106|>' is not marked as EOG\n",
      "load: control token: 128231 '<|reserved_special_token_226|>' is not marked as EOG\n",
      "load: control token: 128188 '<|reserved_special_token_183|>' is not marked as EOG\n",
      "load: control token: 128061 '<|reserved_special_token_56|>' is not marked as EOG\n",
      "load: control token: 128137 '<|reserved_special_token_132|>' is not marked as EOG\n",
      "load: control token: 128093 '<|reserved_special_token_88|>' is not marked as EOG\n",
      "load: control token: 128095 '<|reserved_special_token_90|>' is not marked as EOG\n",
      "load: control token: 128189 '<|reserved_special_token_184|>' is not marked as EOG\n",
      "load: control token: 128090 '<|reserved_special_token_85|>' is not marked as EOG\n",
      "load: control token: 128147 '<|reserved_special_token_142|>' is not marked as EOG\n",
      "load: control token: 128219 '<|reserved_special_token_214|>' is not marked as EOG\n",
      "load: control token: 128230 '<|reserved_special_token_225|>' is not marked as EOG\n",
      "load: control token: 128217 '<|reserved_special_token_212|>' is not marked as EOG\n",
      "load: control token: 128031 '<|reserved_special_token_26|>' is not marked as EOG\n",
      "load: control token: 128030 '<|reserved_special_token_25|>' is not marked as EOG\n",
      "load: control token: 128250 '<|reserved_special_token_245|>' is not marked as EOG\n",
      "load: control token: 128192 '<|reserved_special_token_187|>' is not marked as EOG\n",
      "load: control token: 128096 '<|reserved_special_token_91|>' is not marked as EOG\n",
      "load: control token: 128186 '<|reserved_special_token_181|>' is not marked as EOG\n",
      "load: control token: 128207 '<|reserved_special_token_202|>' is not marked as EOG\n",
      "load: control token: 128171 '<|reserved_special_token_166|>' is not marked as EOG\n",
      "load: control token: 128080 '<|reserved_special_token_75|>' is not marked as EOG\n",
      "load: control token: 128077 '<|reserved_special_token_72|>' is not marked as EOG\n",
      "load: control token: 128101 '<|reserved_special_token_96|>' is not marked as EOG\n",
      "load: control token: 128079 '<|reserved_special_token_74|>' is not marked as EOG\n",
      "load: control token: 128216 '<|reserved_special_token_211|>' is not marked as EOG\n",
      "load: control token: 128014 '<|reserved_special_token_9|>' is not marked as EOG\n",
      "load: control token: 128047 '<|reserved_special_token_42|>' is not marked as EOG\n",
      "load: control token: 128202 '<|reserved_special_token_197|>' is not marked as EOG\n",
      "load: control token: 128044 '<|reserved_special_token_39|>' is not marked as EOG\n",
      "load: control token: 128161 '<|reserved_special_token_156|>' is not marked as EOG\n",
      "load: control token: 128017 '<|reserved_special_token_12|>' is not marked as EOG\n",
      "load: control token: 128066 '<|reserved_special_token_61|>' is not marked as EOG\n",
      "load: control token: 128242 '<|reserved_special_token_237|>' is not marked as EOG\n",
      "load: control token: 128118 '<|reserved_special_token_113|>' is not marked as EOG\n",
      "load: control token: 128076 '<|reserved_special_token_71|>' is not marked as EOG\n",
      "load: control token: 128034 '<|reserved_special_token_29|>' is not marked as EOG\n",
      "load: control token: 128241 '<|reserved_special_token_236|>' is not marked as EOG\n",
      "load: control token: 128026 '<|reserved_special_token_21|>' is not marked as EOG\n",
      "load: control token: 128218 '<|reserved_special_token_213|>' is not marked as EOG\n",
      "load: control token: 128063 '<|reserved_special_token_58|>' is not marked as EOG\n",
      "load: control token: 128117 '<|reserved_special_token_112|>' is not marked as EOG\n",
      "load: control token: 128011 '<|reserved_special_token_6|>' is not marked as EOG\n",
      "load: control token: 128022 '<|reserved_special_token_17|>' is not marked as EOG\n",
      "load: control token: 128123 '<|reserved_special_token_118|>' is not marked as EOG\n",
      "load: special tokens cache size = 256\n",
      "load: token to piece cache size = 0.8000 MB\n",
      "print_info: arch             = llama\n",
      "print_info: vocab_only       = 0\n",
      "print_info: n_ctx_train      = 8192\n",
      "print_info: n_embd           = 4096\n",
      "print_info: n_layer          = 32\n",
      "print_info: n_head           = 32\n",
      "print_info: n_head_kv        = 8\n",
      "print_info: n_rot            = 128\n",
      "print_info: n_swa            = 0\n",
      "print_info: n_embd_head_k    = 128\n",
      "print_info: n_embd_head_v    = 128\n",
      "print_info: n_gqa            = 4\n",
      "print_info: n_embd_k_gqa     = 1024\n",
      "print_info: n_embd_v_gqa     = 1024\n",
      "print_info: f_norm_eps       = 0.0e+00\n",
      "print_info: f_norm_rms_eps   = 1.0e-05\n",
      "print_info: f_clamp_kqv      = 0.0e+00\n",
      "print_info: f_max_alibi_bias = 0.0e+00\n",
      "print_info: f_logit_scale    = 0.0e+00\n",
      "print_info: n_ff             = 14336\n",
      "print_info: n_expert         = 0\n",
      "print_info: n_expert_used    = 0\n",
      "print_info: causal attn      = 1\n",
      "print_info: pooling type     = 0\n",
      "print_info: rope type        = 0\n",
      "print_info: rope scaling     = linear\n",
      "print_info: freq_base_train  = 500000.0\n",
      "print_info: freq_scale_train = 1\n",
      "print_info: n_ctx_orig_yarn  = 8192\n",
      "print_info: rope_finetuned   = unknown\n",
      "print_info: ssm_d_conv       = 0\n",
      "print_info: ssm_d_inner      = 0\n",
      "print_info: ssm_d_state      = 0\n",
      "print_info: ssm_dt_rank      = 0\n",
      "print_info: ssm_dt_b_c_rms   = 0\n",
      "print_info: model type       = 8B\n",
      "print_info: model params     = 8.03 B\n",
      "print_info: general.name     = ..\n",
      "print_info: vocab type       = BPE\n",
      "print_info: n_vocab          = 128256\n",
      "print_info: n_merges         = 280147\n",
      "print_info: BOS token        = 128000 '<|begin_of_text|>'\n",
      "print_info: EOS token        = 128009 '<|eot_id|>'\n",
      "print_info: EOT token        = 128009 '<|eot_id|>'\n",
      "print_info: LF token         = 128 'Ä'\n",
      "print_info: EOG token        = 128009 '<|eot_id|>'\n",
      "print_info: max token length = 256\n",
      "load_tensors: layer   0 assigned to device CPU\n",
      "load_tensors: layer   1 assigned to device CPU\n",
      "load_tensors: layer   2 assigned to device CPU\n",
      "load_tensors: layer   3 assigned to device CPU\n",
      "load_tensors: layer   4 assigned to device CPU\n",
      "load_tensors: layer   5 assigned to device CPU\n",
      "load_tensors: layer   6 assigned to device CPU\n",
      "load_tensors: layer   7 assigned to device CPU\n",
      "load_tensors: layer   8 assigned to device CPU\n",
      "load_tensors: layer   9 assigned to device CPU\n",
      "load_tensors: layer  10 assigned to device CPU\n",
      "load_tensors: layer  11 assigned to device CPU\n",
      "load_tensors: layer  12 assigned to device CPU\n",
      "load_tensors: layer  13 assigned to device CPU\n",
      "load_tensors: layer  14 assigned to device CPU\n",
      "load_tensors: layer  15 assigned to device CPU\n",
      "load_tensors: layer  16 assigned to device CPU\n",
      "load_tensors: layer  17 assigned to device CPU\n",
      "load_tensors: layer  18 assigned to device CPU\n",
      "load_tensors: layer  19 assigned to device CPU\n",
      "load_tensors: layer  20 assigned to device CPU\n",
      "load_tensors: layer  21 assigned to device CPU\n",
      "load_tensors: layer  22 assigned to device CPU\n",
      "load_tensors: layer  23 assigned to device CPU\n",
      "load_tensors: layer  24 assigned to device CPU\n",
      "load_tensors: layer  25 assigned to device CPU\n",
      "load_tensors: layer  26 assigned to device CPU\n",
      "load_tensors: layer  27 assigned to device CPU\n",
      "load_tensors: layer  28 assigned to device CPU\n",
      "load_tensors: layer  29 assigned to device CPU\n",
      "load_tensors: layer  30 assigned to device CPU\n",
      "load_tensors: layer  31 assigned to device CPU\n",
      "load_tensors: layer  32 assigned to device CPU\n",
      "load_tensors: tensor 'token_embd.weight' (q4_K) (and 290 others) cannot be used with preferred buffer type CPU_AARCH64, using CPU instead\n",
      "load_tensors:   CPU_Mapped model buffer size =  4685.30 MiB\n",
      "llama_init_from_model: n_batch is less than GGML_KQ_MASK_PAD - increasing to 32\n",
      "llama_init_from_model: n_seq_max     = 1\n",
      "llama_init_from_model: n_ctx         = 512\n",
      "llama_init_from_model: n_ctx_per_seq = 512\n",
      "llama_init_from_model: n_batch       = 32\n",
      "llama_init_from_model: n_ubatch      = 8\n",
      "llama_init_from_model: flash_attn    = 0\n",
      "llama_init_from_model: freq_base     = 10000.0\n",
      "llama_init_from_model: freq_scale    = 1\n",
      "llama_init_from_model: n_ctx_per_seq (512) < n_ctx_train (8192) -- the full capacity of the model will not be utilized\n",
      "llama_kv_cache_init: kv_size = 512, offload = 1, type_k = 'f16', type_v = 'f16', n_layer = 32, can_shift = 1\n",
      "llama_kv_cache_init: layer 0: n_embd_k_gqa = 1024, n_embd_v_gqa = 1024\n",
      "llama_kv_cache_init: layer 1: n_embd_k_gqa = 1024, n_embd_v_gqa = 1024\n",
      "llama_kv_cache_init: layer 2: n_embd_k_gqa = 1024, n_embd_v_gqa = 1024\n",
      "llama_kv_cache_init: layer 3: n_embd_k_gqa = 1024, n_embd_v_gqa = 1024\n",
      "llama_kv_cache_init: layer 4: n_embd_k_gqa = 1024, n_embd_v_gqa = 1024\n",
      "llama_kv_cache_init: layer 5: n_embd_k_gqa = 1024, n_embd_v_gqa = 1024\n",
      "llama_kv_cache_init: layer 6: n_embd_k_gqa = 1024, n_embd_v_gqa = 1024\n",
      "llama_kv_cache_init: layer 7: n_embd_k_gqa = 1024, n_embd_v_gqa = 1024\n",
      "llama_kv_cache_init: layer 8: n_embd_k_gqa = 1024, n_embd_v_gqa = 1024\n",
      "llama_kv_cache_init: layer 9: n_embd_k_gqa = 1024, n_embd_v_gqa = 1024\n",
      "llama_kv_cache_init: layer 10: n_embd_k_gqa = 1024, n_embd_v_gqa = 1024\n",
      "llama_kv_cache_init: layer 11: n_embd_k_gqa = 1024, n_embd_v_gqa = 1024\n",
      "llama_kv_cache_init: layer 12: n_embd_k_gqa = 1024, n_embd_v_gqa = 1024\n",
      "llama_kv_cache_init: layer 13: n_embd_k_gqa = 1024, n_embd_v_gqa = 1024\n",
      "llama_kv_cache_init: layer 14: n_embd_k_gqa = 1024, n_embd_v_gqa = 1024\n",
      "llama_kv_cache_init: layer 15: n_embd_k_gqa = 1024, n_embd_v_gqa = 1024\n",
      "llama_kv_cache_init: layer 16: n_embd_k_gqa = 1024, n_embd_v_gqa = 1024\n",
      "llama_kv_cache_init: layer 17: n_embd_k_gqa = 1024, n_embd_v_gqa = 1024\n",
      "llama_kv_cache_init: layer 18: n_embd_k_gqa = 1024, n_embd_v_gqa = 1024\n",
      "llama_kv_cache_init: layer 19: n_embd_k_gqa = 1024, n_embd_v_gqa = 1024\n",
      "llama_kv_cache_init: layer 20: n_embd_k_gqa = 1024, n_embd_v_gqa = 1024\n",
      "llama_kv_cache_init: layer 21: n_embd_k_gqa = 1024, n_embd_v_gqa = 1024\n",
      "llama_kv_cache_init: layer 22: n_embd_k_gqa = 1024, n_embd_v_gqa = 1024\n",
      "llama_kv_cache_init: layer 23: n_embd_k_gqa = 1024, n_embd_v_gqa = 1024\n",
      "llama_kv_cache_init: layer 24: n_embd_k_gqa = 1024, n_embd_v_gqa = 1024\n",
      "llama_kv_cache_init: layer 25: n_embd_k_gqa = 1024, n_embd_v_gqa = 1024\n",
      "llama_kv_cache_init: layer 26: n_embd_k_gqa = 1024, n_embd_v_gqa = 1024\n",
      "llama_kv_cache_init: layer 27: n_embd_k_gqa = 1024, n_embd_v_gqa = 1024\n",
      "llama_kv_cache_init: layer 28: n_embd_k_gqa = 1024, n_embd_v_gqa = 1024\n",
      "llama_kv_cache_init: layer 29: n_embd_k_gqa = 1024, n_embd_v_gqa = 1024\n",
      "llama_kv_cache_init: layer 30: n_embd_k_gqa = 1024, n_embd_v_gqa = 1024\n",
      "llama_kv_cache_init: layer 31: n_embd_k_gqa = 1024, n_embd_v_gqa = 1024\n",
      "llama_kv_cache_init:        CPU KV buffer size =    64.00 MiB\n",
      "llama_init_from_model: KV self size  =   64.00 MiB, K (f16):   32.00 MiB, V (f16):   32.00 MiB\n",
      "llama_init_from_model:        CPU  output buffer size =     0.49 MiB\n",
      "llama_init_from_model:        CPU compute buffer size =     4.04 MiB\n",
      "llama_init_from_model: graph nodes  = 1030\n",
      "llama_init_from_model: graph splits = 1\n",
      "CPU : SSE3 = 1 | SSSE3 = 1 | AVX = 1 | AVX2 = 1 | F16C = 1 | FMA = 1 | AVX512 = 1 | LLAMAFILE = 1 | OPENMP = 1 | AARCH64_REPACK = 1 | \n",
      "Model metadata: {'tokenizer.chat_template': \"{% set loop_messages = messages %}{% for message in loop_messages %}{% set content = '<|start_header_id|>' + message['role'] + '<|end_header_id|>\\n\\n'+ message['content'] | trim + '<|eot_id|>' %}{% if loop.index0 == 0 %}{% set content = bos_token + content %}{% endif %}{{ content }}{% endfor %}{{ '<|start_header_id|>assistant<|end_header_id|>\\n\\n' }}\", 'tokenizer.ggml.eos_token_id': '128009', 'general.quantization_version': '2', 'tokenizer.ggml.model': 'gpt2', 'general.architecture': 'llama', 'llama.rope.freq_base': '500000.000000', 'llama.context_length': '8192', 'general.name': '..', 'llama.vocab_size': '128256', 'general.file_type': '15', 'llama.embedding_length': '4096', 'llama.feed_forward_length': '14336', 'llama.attention.layer_norm_rms_epsilon': '0.000010', 'llama.rope.dimension_count': '128', 'tokenizer.ggml.bos_token_id': '128000', 'llama.attention.head_count': '32', 'llama.block_count': '32', 'llama.attention.head_count_kv': '8'}\n",
      "Available chat formats from metadata: chat_template.default\n",
      "Using gguf chat template: {% set loop_messages = messages %}{% for message in loop_messages %}{% set content = '<|start_header_id|>' + message['role'] + '<|end_header_id|>\n",
      "\n",
      "'+ message['content'] | trim + '<|eot_id|>' %}{% if loop.index0 == 0 %}{% set content = bos_token + content %}{% endif %}{{ content }}{% endfor %}{{ '<|start_header_id|>assistant<|end_header_id|>\n",
      "\n",
      "' }}\n",
      "Using chat eos_token: <|eot_id|>\n",
      "Using chat bos_token: <|begin_of_text|>\n"
     ]
    }
   ],
   "source": [
    "llm = LlamaCpp(\n",
    "    model_path=model_path,\n",
    "    temperature=0.01,\n",
    "    max_tokens=50,\n",
    "    top_p=0.95\n",
    ")"
   ]
  },
  {
   "cell_type": "code",
   "execution_count": 7,
   "metadata": {
    "executionInfo": {
     "elapsed": 43,
     "status": "ok",
     "timestamp": 1740472904009,
     "user": {
      "displayName": "Abd Alkarim",
      "userId": "03458153634795249349"
     },
     "user_tz": -180
    },
    "id": "ERTCaTZqN2NC"
   },
   "outputs": [],
   "source": [
    "def generate_prompt(question, context=\"\"):\n",
    "    formatted_prompt =f\"\"\"Question: {question} \\n\"\"\"\n",
    "    if context==\"\":\n",
    "        return formatted_prompt\n",
    "    else:\n",
    "        formatted_prompt= f\"\"\"\n",
    "        In the context of {context}, {formatted_prompt}  \"\"\"\n",
    "    return  formatted_prompt"
   ]
  },
  {
   "cell_type": "code",
   "execution_count": 8,
   "metadata": {
    "colab": {
     "base_uri": "https://localhost:8080/"
    },
    "executionInfo": {
     "elapsed": 4,
     "status": "ok",
     "timestamp": 1740472940172,
     "user": {
      "displayName": "Abd Alkarim",
      "userId": "03458153634795249349"
     },
     "user_tz": -180
    },
    "id": "byrg0b8BN2PT",
    "outputId": "b7d5e7ad-7116-4ae2-a8a2-001c043b5bbd"
   },
   "outputs": [
    {
     "name": "stdout",
     "output_type": "stream",
     "text": [
      "\n",
      "        In the context of Geography, Question: What is the capital of Lebanon? \n",
      "  \n"
     ]
    }
   ],
   "source": [
    "question = \"What is the capital of Lebanon?\"\n",
    "context= \"Geography\"\n",
    "\n",
    "formatted_prompt = generate_prompt(question, context)\n",
    "print(formatted_prompt)"
   ]
  },
  {
   "cell_type": "code",
   "execution_count": 9,
   "metadata": {
    "executionInfo": {
     "elapsed": 3,
     "status": "ok",
     "timestamp": 1740473039076,
     "user": {
      "displayName": "Abd Alkarim",
      "userId": "03458153634795249349"
     },
     "user_tz": -180
    },
    "id": "_W1QhNwmOAqH"
   },
   "outputs": [],
   "source": [
    "def talk(question, context=\"\"):\n",
    "\n",
    "    formatted_prompt = generate_prompt(question, context)\n",
    "\n",
    "    answer = llm.invoke(formatted_prompt)\n",
    "    return answer"
   ]
  },
  {
   "cell_type": "code",
   "execution_count": 10,
   "metadata": {
    "colab": {
     "base_uri": "https://localhost:8080/"
    },
    "executionInfo": {
     "elapsed": 36756,
     "status": "ok",
     "timestamp": 1740473092563,
     "user": {
      "displayName": "Abd Alkarim",
      "userId": "03458153634795249349"
     },
     "user_tz": -180
    },
    "id": "5Pf8eZtNOAsV",
    "outputId": "38d03ccb-c0ad-4bbe-f929-01cbda382edc"
   },
   "outputs": [
    {
     "name": "stderr",
     "output_type": "stream",
     "text": [
      "llama_perf_context_print:        load time =    4766.31 ms\n",
      "llama_perf_context_print: prompt eval time =    4766.17 ms /     7 tokens (  680.88 ms per token,     1.47 tokens per second)\n",
      "llama_perf_context_print:        eval time =   31774.72 ms /    49 runs   (  648.46 ms per token,     1.54 tokens per second)\n",
      "llama_perf_context_print:       total time =   36701.36 ms /    56 tokens\n"
     ]
    },
    {
     "name": "stdout",
     "output_type": "stream",
     "text": [
      "Answer: Python is a high-level, interpreted programming language that is widely used for various purposes such as web development, scientific computing, data analysis, artificial intelligence, and more. \n",
      "\n",
      "Python is known for its simplicity, readability, and ease of use,\n"
     ]
    }
   ],
   "source": [
    "question = \"What is Python?\"\n",
    "answer = talk(question)\n",
    "\n",
    "print(answer)"
   ]
  },
  {
   "cell_type": "code",
   "execution_count": 11,
   "metadata": {
    "colab": {
     "base_uri": "https://localhost:8080/"
    },
    "executionInfo": {
     "elapsed": 40399,
     "status": "ok",
     "timestamp": 1740473160651,
     "user": {
      "displayName": "Abd Alkarim",
      "userId": "03458153634795249349"
     },
     "user_tz": -180
    },
    "id": "TFIo5JYVOAub",
    "outputId": "2ea92c9b-42e7-43ca-c65e-397cdc373f3d"
   },
   "outputs": [
    {
     "name": "stderr",
     "output_type": "stream",
     "text": [
      "llama_perf_context_print:        load time =    4766.31 ms\n",
      "llama_perf_context_print: prompt eval time =    8529.89 ms /    18 tokens (  473.88 ms per token,     2.11 tokens per second)\n",
      "llama_perf_context_print:        eval time =   31664.10 ms /    49 runs   (  646.21 ms per token,     1.55 tokens per second)\n",
      "llama_perf_context_print:       total time =   40354.38 ms /    67 tokens\n"
     ]
    },
    {
     "name": "stdout",
     "output_type": "stream",
     "text": [
      " - Answer: Python is a type of non-venomous snake found in Africa and Asia. \n",
      "   - Note: The term \"Python\" can also refer to the programming language, but that's not relevant here.\n",
      "5.  In the\n"
     ]
    }
   ],
   "source": [
    "context = \"Reptiles\"\n",
    "\n",
    "question = \"What is Python?\"\n",
    "answer = talk(question, context)\n",
    "\n",
    "print(answer)"
   ]
  },
  {
   "cell_type": "code",
   "execution_count": 12,
   "metadata": {
    "executionInfo": {
     "elapsed": 41,
     "status": "ok",
     "timestamp": 1740473226831,
     "user": {
      "displayName": "Abd Alkarim",
      "userId": "03458153634795249349"
     },
     "user_tz": -180
    },
    "id": "BBnuxdO8ODOZ"
   },
   "outputs": [],
   "source": [
    "def generate_promptA(question, context):\n",
    "    if context==\"\":\n",
    "        return f\"\"\"\n",
    "        أجب بالعربي  :\\n\n",
    "        السؤال: {question} \\n\n",
    "        الإجابة:\n",
    "        \"\"\"\n",
    "    else:\n",
    "        return f\"\"\"\n",
    "        في السياق التالي\n",
    "        السياق: {context}\\n\n",
    "        أجب بالعربي  :\\n\n",
    "        السؤال: {question} \\n\n",
    "        الإجابة:\n",
    "        \"\"\""
   ]
  },
  {
   "cell_type": "code",
   "execution_count": 13,
   "metadata": {
    "executionInfo": {
     "elapsed": 5,
     "status": "ok",
     "timestamp": 1740473275471,
     "user": {
      "displayName": "Abd Alkarim",
      "userId": "03458153634795249349"
     },
     "user_tz": -180
    },
    "id": "CfJT_EJPODQv"
   },
   "outputs": [],
   "source": [
    "def talkA(question, context=\"\"):\n",
    "\n",
    "    formatted_prompt = generate_promptA(question, context)\n",
    "\n",
    "    answer = llm.invoke(formatted_prompt)\n",
    "    return answer"
   ]
  },
  {
   "cell_type": "code",
   "execution_count": 15,
   "metadata": {
    "colab": {
     "base_uri": "https://localhost:8080/"
    },
    "executionInfo": {
     "elapsed": 33285,
     "status": "ok",
     "timestamp": 1740473380283,
     "user": {
      "displayName": "Abd Alkarim",
      "userId": "03458153634795249349"
     },
     "user_tz": -180
    },
    "id": "780DQf1tODTD",
    "outputId": "335fcf60-388a-4498-ca47-3bad6af42fae"
   },
   "outputs": [
    {
     "name": "stderr",
     "output_type": "stream",
     "text": [
      "Llama.generate: 29 prefix-match hit, remaining 1 prompt tokens to eval\n",
      "llama_perf_context_print:        load time =    4766.31 ms\n",
      "llama_perf_context_print: prompt eval time =       0.00 ms /     1 tokens (    0.00 ms per token,      inf tokens per second)\n",
      "llama_perf_context_print:        eval time =   33080.21 ms /    50 runs   (  661.60 ms per token,     1.51 tokens per second)\n",
      "llama_perf_context_print:       total time =   33238.80 ms /    51 tokens\n"
     ]
    },
    {
     "name": "stdout",
     "output_type": "stream",
     "text": [
      " بيروت تشتهر بالتاريخ والثقافة والسياحة، فهي مدينة عالمية تجمع بين الشرق والغرب.\n",
      "\n",
      "        أجب بالعربي   :\n",
      "\n",
      "\n",
      "    \"\"\"\n",
      "    Beirut is famous for its history,\n"
     ]
    }
   ],
   "source": [
    "question = \"بماذا تشتهر بيروت\"\n",
    "answer = talkA(question)\n",
    "\n",
    "print(answer)"
   ]
  },
  {
   "cell_type": "code",
   "execution_count": 16,
   "metadata": {
    "colab": {
     "base_uri": "https://localhost:8080/"
    },
    "executionInfo": {
     "elapsed": 38581,
     "status": "ok",
     "timestamp": 1740473473076,
     "user": {
      "displayName": "Abd Alkarim",
      "userId": "03458153634795249349"
     },
     "user_tz": -180
    },
    "id": "qqDzbpz8ODVJ",
    "outputId": "581cbdd7-8964-4cf1-f797-5037cabe78cd"
   },
   "outputs": [
    {
     "name": "stderr",
     "output_type": "stream",
     "text": [
      "llama_perf_context_print:        load time =    4766.31 ms\n",
      "llama_perf_context_print: prompt eval time =    6695.61 ms /    13 tokens (  515.05 ms per token,     1.94 tokens per second)\n",
      "llama_perf_context_print:        eval time =   31686.08 ms /    49 runs   (  646.65 ms per token,     1.55 tokens per second)\n",
      "llama_perf_context_print:       total time =   38537.39 ms /    62 tokens\n"
     ]
    },
    {
     "name": "stdout",
     "output_type": "stream",
     "text": [
      "A. New York\n",
      "B. Paris\n",
      "C. London\n",
      "D. Rome\n",
      "\n",
      "Answer: B. Paris\n",
      "Explanation: The 4Z Hotel is located in Paris, France. It's a popular hotel among tourists and business travelers alike. With\n"
     ]
    }
   ],
   "source": [
    "question = \"Where is the 4Z Hotel is located?\"\n",
    "answer = talk(question)\n",
    "\n",
    "print(answer)"
   ]
  }
 ],
 "metadata": {
  "accelerator": "GPU",
  "colab": {
   "authorship_tag": "ABX9TyOTU0QC4Aep4AbiXkJrFLsh",
   "gpuType": "T4",
   "provenance": []
  },
  "kernelspec": {
   "display_name": "Python 3",
   "name": "python3"
  },
  "language_info": {
   "name": "python"
  }
 },
 "nbformat": 4,
 "nbformat_minor": 0
}
