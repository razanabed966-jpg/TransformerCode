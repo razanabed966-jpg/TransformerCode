{
 "cells": [
  {
   "cell_type": "code",
   "execution_count": 1,
   "metadata": {
    "colab": {
     "base_uri": "https://localhost:8080/"
    },
    "executionInfo": {
     "elapsed": 16306,
     "status": "ok",
     "timestamp": 1741595511031,
     "user": {
      "displayName": "Abd Alkarim",
      "userId": "03458153634795249349"
     },
     "user_tz": -180
    },
    "id": "LsUZ3qUB_S0t",
    "outputId": "d321773b-cb2b-42a4-c646-3d8e4cbe701c"
   },
   "outputs": [
    {
     "name": "stdout",
     "output_type": "stream",
     "text": [
      "Mounted at /content/drive\n"
     ]
    }
   ],
   "source": [
    "from google.colab import drive\n",
    "drive.mount('/content/drive')"
   ]
  },
  {
   "cell_type": "code",
   "execution_count": 2,
   "metadata": {
    "executionInfo": {
     "elapsed": 1,
     "status": "ok",
     "timestamp": 1741595511034,
     "user": {
      "displayName": "Abd Alkarim",
      "userId": "03458153634795249349"
     },
     "user_tz": -180
    },
    "id": "gKRucubU_TfG"
   },
   "outputs": [],
   "source": [
    "working_folder='/content/drive/MyDrive/TransformersCode/05-Service_Center/'"
   ]
  },
  {
   "cell_type": "code",
   "execution_count": 3,
   "metadata": {
    "colab": {
     "base_uri": "https://localhost:8080/"
    },
    "executionInfo": {
     "elapsed": 5308,
     "status": "ok",
     "timestamp": 1741595516351,
     "user": {
      "displayName": "Abd Alkarim",
      "userId": "03458153634795249349"
     },
     "user_tz": -180
    },
    "id": "LuOWuHuqugbU",
    "outputId": "61db25ad-6e3f-44bf-8e51-e44eeab0c2f5"
   },
   "outputs": [
    {
     "name": "stdout",
     "output_type": "stream",
     "text": [
      "Collecting datasets\n",
      "  Downloading datasets-3.3.2-py3-none-any.whl.metadata (19 kB)\n",
      "Requirement already satisfied: filelock in /usr/local/lib/python3.11/dist-packages (from datasets) (3.17.0)\n",
      "Requirement already satisfied: numpy>=1.17 in /usr/local/lib/python3.11/dist-packages (from datasets) (1.26.4)\n",
      "Requirement already satisfied: pyarrow>=15.0.0 in /usr/local/lib/python3.11/dist-packages (from datasets) (18.1.0)\n",
      "Collecting dill<0.3.9,>=0.3.0 (from datasets)\n",
      "  Downloading dill-0.3.8-py3-none-any.whl.metadata (10 kB)\n",
      "Requirement already satisfied: pandas in /usr/local/lib/python3.11/dist-packages (from datasets) (2.2.2)\n",
      "Requirement already satisfied: requests>=2.32.2 in /usr/local/lib/python3.11/dist-packages (from datasets) (2.32.3)\n",
      "Requirement already satisfied: tqdm>=4.66.3 in /usr/local/lib/python3.11/dist-packages (from datasets) (4.67.1)\n",
      "Collecting xxhash (from datasets)\n",
      "  Downloading xxhash-3.5.0-cp311-cp311-manylinux_2_17_x86_64.manylinux2014_x86_64.whl.metadata (12 kB)\n",
      "Collecting multiprocess<0.70.17 (from datasets)\n",
      "  Downloading multiprocess-0.70.16-py311-none-any.whl.metadata (7.2 kB)\n",
      "Requirement already satisfied: fsspec<=2024.12.0,>=2023.1.0 in /usr/local/lib/python3.11/dist-packages (from fsspec[http]<=2024.12.0,>=2023.1.0->datasets) (2024.10.0)\n",
      "Requirement already satisfied: aiohttp in /usr/local/lib/python3.11/dist-packages (from datasets) (3.11.13)\n",
      "Requirement already satisfied: huggingface-hub>=0.24.0 in /usr/local/lib/python3.11/dist-packages (from datasets) (0.28.1)\n",
      "Requirement already satisfied: packaging in /usr/local/lib/python3.11/dist-packages (from datasets) (24.2)\n",
      "Requirement already satisfied: pyyaml>=5.1 in /usr/local/lib/python3.11/dist-packages (from datasets) (6.0.2)\n",
      "Requirement already satisfied: aiohappyeyeballs>=2.3.0 in /usr/local/lib/python3.11/dist-packages (from aiohttp->datasets) (2.4.6)\n",
      "Requirement already satisfied: aiosignal>=1.1.2 in /usr/local/lib/python3.11/dist-packages (from aiohttp->datasets) (1.3.2)\n",
      "Requirement already satisfied: attrs>=17.3.0 in /usr/local/lib/python3.11/dist-packages (from aiohttp->datasets) (25.1.0)\n",
      "Requirement already satisfied: frozenlist>=1.1.1 in /usr/local/lib/python3.11/dist-packages (from aiohttp->datasets) (1.5.0)\n",
      "Requirement already satisfied: multidict<7.0,>=4.5 in /usr/local/lib/python3.11/dist-packages (from aiohttp->datasets) (6.1.0)\n",
      "Requirement already satisfied: propcache>=0.2.0 in /usr/local/lib/python3.11/dist-packages (from aiohttp->datasets) (0.3.0)\n",
      "Requirement already satisfied: yarl<2.0,>=1.17.0 in /usr/local/lib/python3.11/dist-packages (from aiohttp->datasets) (1.18.3)\n",
      "Requirement already satisfied: typing-extensions>=3.7.4.3 in /usr/local/lib/python3.11/dist-packages (from huggingface-hub>=0.24.0->datasets) (4.12.2)\n",
      "Requirement already satisfied: charset-normalizer<4,>=2 in /usr/local/lib/python3.11/dist-packages (from requests>=2.32.2->datasets) (3.4.1)\n",
      "Requirement already satisfied: idna<4,>=2.5 in /usr/local/lib/python3.11/dist-packages (from requests>=2.32.2->datasets) (3.10)\n",
      "Requirement already satisfied: urllib3<3,>=1.21.1 in /usr/local/lib/python3.11/dist-packages (from requests>=2.32.2->datasets) (2.3.0)\n",
      "Requirement already satisfied: certifi>=2017.4.17 in /usr/local/lib/python3.11/dist-packages (from requests>=2.32.2->datasets) (2025.1.31)\n",
      "Requirement already satisfied: python-dateutil>=2.8.2 in /usr/local/lib/python3.11/dist-packages (from pandas->datasets) (2.8.2)\n",
      "Requirement already satisfied: pytz>=2020.1 in /usr/local/lib/python3.11/dist-packages (from pandas->datasets) (2025.1)\n",
      "Requirement already satisfied: tzdata>=2022.7 in /usr/local/lib/python3.11/dist-packages (from pandas->datasets) (2025.1)\n",
      "Requirement already satisfied: six>=1.5 in /usr/local/lib/python3.11/dist-packages (from python-dateutil>=2.8.2->pandas->datasets) (1.17.0)\n",
      "Downloading datasets-3.3.2-py3-none-any.whl (485 kB)\n",
      "\u001b[2K   \u001b[90m━━━━━━━━━━━━━━━━━━━━━━━━━━━━━━━━━━━━━━━━\u001b[0m \u001b[32m485.4/485.4 kB\u001b[0m \u001b[31m9.3 MB/s\u001b[0m eta \u001b[36m0:00:00\u001b[0m\n",
      "\u001b[?25hDownloading dill-0.3.8-py3-none-any.whl (116 kB)\n",
      "\u001b[2K   \u001b[90m━━━━━━━━━━━━━━━━━━━━━━━━━━━━━━━━━━━━━━━━\u001b[0m \u001b[32m116.3/116.3 kB\u001b[0m \u001b[31m9.9 MB/s\u001b[0m eta \u001b[36m0:00:00\u001b[0m\n",
      "\u001b[?25hDownloading multiprocess-0.70.16-py311-none-any.whl (143 kB)\n",
      "\u001b[2K   \u001b[90m━━━━━━━━━━━━━━━━━━━━━━━━━━━━━━━━━━━━━━━━\u001b[0m \u001b[32m143.5/143.5 kB\u001b[0m \u001b[31m12.3 MB/s\u001b[0m eta \u001b[36m0:00:00\u001b[0m\n",
      "\u001b[?25hDownloading xxhash-3.5.0-cp311-cp311-manylinux_2_17_x86_64.manylinux2014_x86_64.whl (194 kB)\n",
      "\u001b[2K   \u001b[90m━━━━━━━━━━━━━━━━━━━━━━━━━━━━━━━━━━━━━━━━\u001b[0m \u001b[32m194.8/194.8 kB\u001b[0m \u001b[31m16.1 MB/s\u001b[0m eta \u001b[36m0:00:00\u001b[0m\n",
      "\u001b[?25hInstalling collected packages: xxhash, dill, multiprocess, datasets\n",
      "Successfully installed datasets-3.3.2 dill-0.3.8 multiprocess-0.70.16 xxhash-3.5.0\n"
     ]
    }
   ],
   "source": [
    "!pip install datasets"
   ]
  },
  {
   "cell_type": "code",
   "execution_count": 4,
   "metadata": {
    "executionInfo": {
     "elapsed": 1511,
     "status": "ok",
     "timestamp": 1741596029362,
     "user": {
      "displayName": "Abd Alkarim",
      "userId": "03458153634795249349"
     },
     "user_tz": -180
    },
    "id": "qoZTFAvzummL"
   },
   "outputs": [],
   "source": [
    "from datasets import *"
   ]
  },
  {
   "cell_type": "code",
   "execution_count": 5,
   "metadata": {
    "executionInfo": {
     "elapsed": 6830,
     "status": "ok",
     "timestamp": 1741596077293,
     "user": {
      "displayName": "Abd Alkarim",
      "userId": "03458153634795249349"
     },
     "user_tz": -180
    },
    "id": "vYP1pCLMz-Ol"
   },
   "outputs": [],
   "source": [
    "train_ds = load_from_disk(working_folder  + 'train_dataset')\n",
    "test_ds = load_from_disk(working_folder +'test_dataset')\n",
    "val_ds = load_from_disk(working_folder +'val_dataset')"
   ]
  },
  {
   "cell_type": "code",
   "execution_count": 6,
   "metadata": {
    "colab": {
     "base_uri": "https://localhost:8080/"
    },
    "executionInfo": {
     "elapsed": 14,
     "status": "ok",
     "timestamp": 1741596077717,
     "user": {
      "displayName": "Abd Alkarim",
      "userId": "03458153634795249349"
     },
     "user_tz": -180
    },
    "id": "B_XVv9aU2OmG",
    "outputId": "c017a2e6-4dfb-4192-991d-bc2a0ebd65b4"
   },
   "outputs": [
    {
     "data": {
      "text/plain": [
       "Dataset({\n",
       "    features: ['img', 'label'],\n",
       "    num_rows: 6104\n",
       "})"
      ]
     },
     "execution_count": 6,
     "metadata": {},
     "output_type": "execute_result"
    }
   ],
   "source": [
    "train_ds"
   ]
  },
  {
   "cell_type": "code",
   "execution_count": 7,
   "metadata": {
    "executionInfo": {
     "elapsed": 3,
     "status": "ok",
     "timestamp": 1741596112054,
     "user": {
      "displayName": "Abd Alkarim",
      "userId": "03458153634795249349"
     },
     "user_tz": -180
    },
    "id": "sEi4-0OJ3Es-"
   },
   "outputs": [],
   "source": [
    "model_id='google/vit-base-patch16-224-in21k'"
   ]
  },
  {
   "cell_type": "code",
   "execution_count": 8,
   "metadata": {
    "executionInfo": {
     "elapsed": 14866,
     "status": "ok",
     "timestamp": 1741596138239,
     "user": {
      "displayName": "Abd Alkarim",
      "userId": "03458153634795249349"
     },
     "user_tz": -180
    },
    "id": "yZ8I9dCHwOoU"
   },
   "outputs": [],
   "source": [
    "from transformers import ViTImageProcessor"
   ]
  },
  {
   "cell_type": "code",
   "execution_count": 9,
   "metadata": {
    "colab": {
     "base_uri": "https://localhost:8080/",
     "height": 153,
     "referenced_widgets": [
      "5947758087dc481ba8a72ae5880850b0",
      "21f8d71a314e4479afd253e4d28a7578",
      "61413dd52a2b426cb4b7f0b8755c00df",
      "88b5013facf54e838605dba56318d33e",
      "84897e3d6a764a9493f5abbcff54b1c1",
      "fce771d6d7184ff8bb09f97ce8195a4e",
      "2b30bd01c3a44c139c4d17841e42625f",
      "145ff1c52cb045fa8e352976fa9aa45a",
      "fef550f907f8487195b1cc8748c0e220",
      "e415ef78e4b94fb2b5f0d0fe82fefbd8",
      "07fa7807243a4aee865cf30d8760ea95"
     ]
    },
    "executionInfo": {
     "elapsed": 1006,
     "status": "ok",
     "timestamp": 1741596146072,
     "user": {
      "displayName": "Abd Alkarim",
      "userId": "03458153634795249349"
     },
     "user_tz": -180
    },
    "id": "4QjbaROzu0JT",
    "outputId": "542462ae-42e1-4155-a512-c0bb6f02ee2a"
   },
   "outputs": [
    {
     "name": "stderr",
     "output_type": "stream",
     "text": [
      "/usr/local/lib/python3.11/dist-packages/huggingface_hub/utils/_auth.py:94: UserWarning: \n",
      "The secret `HF_TOKEN` does not exist in your Colab secrets.\n",
      "To authenticate with the Hugging Face Hub, create a token in your settings tab (https://huggingface.co/settings/tokens), set it as secret in your Google Colab and restart your session.\n",
      "You will be able to reuse this secret in all of your notebooks.\n",
      "Please note that authentication is recommended but still optional to access public models or datasets.\n",
      "  warnings.warn(\n"
     ]
    },
    {
     "data": {
      "application/vnd.jupyter.widget-view+json": {
       "model_id": "5947758087dc481ba8a72ae5880850b0",
       "version_major": 2,
       "version_minor": 0
      },
      "text/plain": [
       "preprocessor_config.json:   0%|          | 0.00/160 [00:00<?, ?B/s]"
      ]
     },
     "metadata": {},
     "output_type": "display_data"
    }
   ],
   "source": [
    "processor = ViTImageProcessor.from_pretrained(model_id)"
   ]
  },
  {
   "cell_type": "code",
   "execution_count": 10,
   "metadata": {
    "colab": {
     "base_uri": "https://localhost:8080/"
    },
    "executionInfo": {
     "elapsed": 30,
     "status": "ok",
     "timestamp": 1741596172947,
     "user": {
      "displayName": "Abd Alkarim",
      "userId": "03458153634795249349"
     },
     "user_tz": -180
    },
    "id": "8DYJVuabyx4s",
    "outputId": "3c86082e-4e7f-4d00-bcde-7b5ac1377134"
   },
   "outputs": [
    {
     "data": {
      "text/plain": [
       "list"
      ]
     },
     "execution_count": 10,
     "metadata": {},
     "output_type": "execute_result"
    }
   ],
   "source": [
    "image=train_ds[0]['img']\n",
    "\n",
    "type(image)"
   ]
  },
  {
   "cell_type": "code",
   "execution_count": 11,
   "metadata": {
    "colab": {
     "base_uri": "https://localhost:8080/"
    },
    "executionInfo": {
     "elapsed": 10,
     "status": "ok",
     "timestamp": 1741596201069,
     "user": {
      "displayName": "Abd Alkarim",
      "userId": "03458153634795249349"
     },
     "user_tz": -180
    },
    "id": "zKfSJvxI-SRR",
    "outputId": "8a9c811b-b64a-4d73-f725-77423d95e0c1"
   },
   "outputs": [
    {
     "data": {
      "text/plain": [
       "(48, 48, 3)"
      ]
     },
     "execution_count": 11,
     "metadata": {},
     "output_type": "execute_result"
    }
   ],
   "source": [
    "import numpy as np\n",
    "\n",
    "image_np=np.array(image, dtype=np.uint8)\n",
    "image_np.shape"
   ]
  },
  {
   "cell_type": "code",
   "execution_count": 12,
   "metadata": {
    "colab": {
     "base_uri": "https://localhost:8080/",
     "height": 88
    },
    "executionInfo": {
     "elapsed": 60,
     "status": "ok",
     "timestamp": 1741596219458,
     "user": {
      "displayName": "Abd Alkarim",
      "userId": "03458153634795249349"
     },
     "user_tz": -180
    },
    "id": "AUqq9eKsgYzL",
    "outputId": "38564fb1-7b30-4b29-e325-60aec226e976"
   },
   "outputs": [
    {
     "data": {
      "text/html": [
       "<style>\n",
       "      .ndarray_repr .ndarray_raw_data {\n",
       "        display: none;\n",
       "      }\n",
       "      .ndarray_repr.show_array .ndarray_raw_data {\n",
       "        display: block;\n",
       "      }\n",
       "      .ndarray_repr.show_array .ndarray_image_preview {\n",
       "        display: none;\n",
       "      }\n",
       "      </style>\n",
       "      <div id=\"id-81c8080d-3002-437d-887f-40981076d79e\" class=\"ndarray_repr\"><pre>ndarray (48, 48, 3) <button style=\"padding: 0 2px;\">show data</button></pre><img src=\"data:image/png;base64,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\" class=\"ndarray_image_preview\" /><pre class=\"ndarray_raw_data\">array([[[ 51,  51,  51],\n",
       "        [ 49,  49,  49],\n",
       "        [ 47,  47,  47],\n",
       "        ...,\n",
       "        [ 37,  37,  37],\n",
       "        [ 38,  38,  38],\n",
       "        [ 48,  48,  48]],\n",
       "\n",
       "       [[ 49,  49,  49],\n",
       "        [ 48,  48,  48],\n",
       "        [ 49,  49,  49],\n",
       "        ...,\n",
       "        [ 37,  37,  37],\n",
       "        [ 43,  43,  43],\n",
       "        [ 55,  55,  55]],\n",
       "\n",
       "       [[ 50,  50,  50],\n",
       "        [ 51,  51,  51],\n",
       "        [ 48,  48,  48],\n",
       "        ...,\n",
       "        [ 39,  39,  39],\n",
       "        [ 49,  49,  49],\n",
       "        [ 58,  58,  58]],\n",
       "\n",
       "       ...,\n",
       "\n",
       "       [[ 37,  37,  37],\n",
       "        [ 38,  38,  38],\n",
       "        [ 38,  38,  38],\n",
       "        ...,\n",
       "        [ 35,  35,  35],\n",
       "        [ 36,  36,  36],\n",
       "        [ 38,  38,  38]],\n",
       "\n",
       "       [[ 37,  37,  37],\n",
       "        [ 38,  38,  38],\n",
       "        [ 40,  40,  40],\n",
       "        ...,\n",
       "        [ 41,  41,  41],\n",
       "        [ 35,  35,  35],\n",
       "        [ 35,  35,  35]],\n",
       "\n",
       "       [[ 37,  37,  37],\n",
       "        [ 38,  38,  38],\n",
       "        [ 38,  38,  38],\n",
       "        ...,\n",
       "        [128, 128, 128],\n",
       "        [ 54,  54,  54],\n",
       "        [ 71,  71,  71]]], dtype=uint8)</pre></div><script>\n",
       "      (() => {\n",
       "      const titles = ['show data', 'hide data'];\n",
       "      let index = 0\n",
       "      document.querySelector('#id-81c8080d-3002-437d-887f-40981076d79e button').onclick = (e) => {\n",
       "        document.querySelector('#id-81c8080d-3002-437d-887f-40981076d79e').classList.toggle('show_array');\n",
       "        index = (++index) % 2;\n",
       "        document.querySelector('#id-81c8080d-3002-437d-887f-40981076d79e button').textContent = titles[index];\n",
       "        e.preventDefault();\n",
       "        e.stopPropagation();\n",
       "      }\n",
       "      })();\n",
       "    </script>"
      ],
      "text/plain": [
       "array([[[ 51,  51,  51],\n",
       "        [ 49,  49,  49],\n",
       "        [ 47,  47,  47],\n",
       "        ...,\n",
       "        [ 37,  37,  37],\n",
       "        [ 38,  38,  38],\n",
       "        [ 48,  48,  48]],\n",
       "\n",
       "       [[ 49,  49,  49],\n",
       "        [ 48,  48,  48],\n",
       "        [ 49,  49,  49],\n",
       "        ...,\n",
       "        [ 37,  37,  37],\n",
       "        [ 43,  43,  43],\n",
       "        [ 55,  55,  55]],\n",
       "\n",
       "       [[ 50,  50,  50],\n",
       "        [ 51,  51,  51],\n",
       "        [ 48,  48,  48],\n",
       "        ...,\n",
       "        [ 39,  39,  39],\n",
       "        [ 49,  49,  49],\n",
       "        [ 58,  58,  58]],\n",
       "\n",
       "       ...,\n",
       "\n",
       "       [[ 37,  37,  37],\n",
       "        [ 38,  38,  38],\n",
       "        [ 38,  38,  38],\n",
       "        ...,\n",
       "        [ 35,  35,  35],\n",
       "        [ 36,  36,  36],\n",
       "        [ 38,  38,  38]],\n",
       "\n",
       "       [[ 37,  37,  37],\n",
       "        [ 38,  38,  38],\n",
       "        [ 40,  40,  40],\n",
       "        ...,\n",
       "        [ 41,  41,  41],\n",
       "        [ 35,  35,  35],\n",
       "        [ 35,  35,  35]],\n",
       "\n",
       "       [[ 37,  37,  37],\n",
       "        [ 38,  38,  38],\n",
       "        [ 38,  38,  38],\n",
       "        ...,\n",
       "        [128, 128, 128],\n",
       "        [ 54,  54,  54],\n",
       "        [ 71,  71,  71]]], dtype=uint8)"
      ]
     },
     "execution_count": 12,
     "metadata": {},
     "output_type": "execute_result"
    }
   ],
   "source": [
    "image_np"
   ]
  },
  {
   "cell_type": "code",
   "execution_count": 13,
   "metadata": {
    "colab": {
     "base_uri": "https://localhost:8080/"
    },
    "executionInfo": {
     "elapsed": 14,
     "status": "ok",
     "timestamp": 1741596283021,
     "user": {
      "displayName": "Abd Alkarim",
      "userId": "03458153634795249349"
     },
     "user_tz": -180
    },
    "id": "Yp98zH1KgtKu",
    "outputId": "7a1a6ea5-b44e-4de9-9ea2-e09ba271a769"
   },
   "outputs": [
    {
     "data": {
      "text/plain": [
       "(3, 48, 48)"
      ]
     },
     "execution_count": 13,
     "metadata": {},
     "output_type": "execute_result"
    }
   ],
   "source": [
    "image_np_rgb=np.moveaxis(image_np, source=-1, destination=0)\n",
    "image_np_rgb.shape"
   ]
  },
  {
   "cell_type": "code",
   "execution_count": 14,
   "metadata": {
    "colab": {
     "base_uri": "https://localhost:8080/"
    },
    "executionInfo": {
     "elapsed": 12,
     "status": "ok",
     "timestamp": 1741596302554,
     "user": {
      "displayName": "Abd Alkarim",
      "userId": "03458153634795249349"
     },
     "user_tz": -180
    },
    "id": "B8IHd_rVg26D",
    "outputId": "d4021dbe-f6de-45a3-fa5d-9e9d96b840c8"
   },
   "outputs": [
    {
     "data": {
      "text/plain": [
       "{'pixel_values': [array([[[-0.6       , -0.6       , -0.6       , ..., -0.62352943,\n",
       "         -0.62352943, -0.62352943],\n",
       "        [-0.6       , -0.6       , -0.6       , ..., -0.62352943,\n",
       "         -0.62352943, -0.62352943],\n",
       "        [-0.6       , -0.6       , -0.6       , ..., -0.62352943,\n",
       "         -0.62352943, -0.62352943],\n",
       "        ...,\n",
       "        [-0.70980394, -0.70980394, -0.70980394, ..., -0.4588235 ,\n",
       "         -0.45098037, -0.45098037],\n",
       "        [-0.70980394, -0.70980394, -0.70980394, ..., -0.45098037,\n",
       "         -0.44313723, -0.44313723],\n",
       "        [-0.70980394, -0.70980394, -0.70980394, ..., -0.45098037,\n",
       "         -0.44313723, -0.44313723]],\n",
       "\n",
       "       [[-0.6       , -0.6       , -0.6       , ..., -0.62352943,\n",
       "         -0.62352943, -0.62352943],\n",
       "        [-0.6       , -0.6       , -0.6       , ..., -0.62352943,\n",
       "         -0.62352943, -0.62352943],\n",
       "        [-0.6       , -0.6       , -0.6       , ..., -0.62352943,\n",
       "         -0.62352943, -0.62352943],\n",
       "        ...,\n",
       "        [-0.70980394, -0.70980394, -0.70980394, ..., -0.4588235 ,\n",
       "         -0.45098037, -0.45098037],\n",
       "        [-0.70980394, -0.70980394, -0.70980394, ..., -0.45098037,\n",
       "         -0.44313723, -0.44313723],\n",
       "        [-0.70980394, -0.70980394, -0.70980394, ..., -0.45098037,\n",
       "         -0.44313723, -0.44313723]],\n",
       "\n",
       "       [[-0.6       , -0.6       , -0.6       , ..., -0.62352943,\n",
       "         -0.62352943, -0.62352943],\n",
       "        [-0.6       , -0.6       , -0.6       , ..., -0.62352943,\n",
       "         -0.62352943, -0.62352943],\n",
       "        [-0.6       , -0.6       , -0.6       , ..., -0.62352943,\n",
       "         -0.62352943, -0.62352943],\n",
       "        ...,\n",
       "        [-0.70980394, -0.70980394, -0.70980394, ..., -0.4588235 ,\n",
       "         -0.45098037, -0.45098037],\n",
       "        [-0.70980394, -0.70980394, -0.70980394, ..., -0.45098037,\n",
       "         -0.44313723, -0.44313723],\n",
       "        [-0.70980394, -0.70980394, -0.70980394, ..., -0.45098037,\n",
       "         -0.44313723, -0.44313723]]], dtype=float32)]}"
      ]
     },
     "execution_count": 14,
     "metadata": {},
     "output_type": "execute_result"
    }
   ],
   "source": [
    "processor_output=processor(image_np_rgb)\n",
    "processor_output"
   ]
  },
  {
   "cell_type": "code",
   "execution_count": 15,
   "metadata": {
    "colab": {
     "base_uri": "https://localhost:8080/"
    },
    "executionInfo": {
     "elapsed": 9,
     "status": "ok",
     "timestamp": 1741596344377,
     "user": {
      "displayName": "Abd Alkarim",
      "userId": "03458153634795249349"
     },
     "user_tz": -180
    },
    "id": "MSXP-WB6b9Ec",
    "outputId": "9aa382b0-71d1-4817-bbb4-32e43101a296"
   },
   "outputs": [
    {
     "data": {
      "text/plain": [
       "(1, 3, 224, 224)"
      ]
     },
     "execution_count": 15,
     "metadata": {},
     "output_type": "execute_result"
    }
   ],
   "source": [
    "processor_output_np = np.array(processor_output['pixel_values'])\n",
    "processor_output_np.shape"
   ]
  },
  {
   "cell_type": "code",
   "execution_count": 16,
   "metadata": {
    "executionInfo": {
     "elapsed": 10,
     "status": "ok",
     "timestamp": 1741596444309,
     "user": {
      "displayName": "Abd Alkarim",
      "userId": "03458153634795249349"
     },
     "user_tz": -180
    },
    "id": "M8fcwD0OxEHP"
   },
   "outputs": [],
   "source": [
    "def preprocess_images(dataset):\n",
    "\n",
    "    images = dataset['img']\n",
    "\n",
    "    images = [np.array(image, dtype=np.uint8) for image in images]\n",
    "    images = [np.moveaxis(image, source=-1, destination=0) for image in images]\n",
    "\n",
    "    processor_output = processor(images=images)\n",
    "\n",
    "    dataset['pixel_values'] = processor_output['pixel_values']\n",
    "\n",
    "    return dataset"
   ]
  },
  {
   "cell_type": "code",
   "execution_count": 17,
   "metadata": {
    "executionInfo": {
     "elapsed": 31,
     "status": "ok",
     "timestamp": 1741596463761,
     "user": {
      "displayName": "Abd Alkarim",
      "userId": "03458153634795249349"
     },
     "user_tz": -180
    },
    "id": "j7lUMaQQ3OkW"
   },
   "outputs": [],
   "source": [
    "classes_names = ['Anger', 'Disgust', 'Fear', 'Happiness', 'Sadness', 'Surprise', 'Neutral']"
   ]
  },
  {
   "cell_type": "code",
   "execution_count": 18,
   "metadata": {
    "colab": {
     "base_uri": "https://localhost:8080/",
     "height": 113,
     "referenced_widgets": [
      "6c3751128821454dbd05df00bda18703",
      "fb3f4ff41a814a84a7de6f09bad4f11a",
      "7ba1d6f2556f4497ae93d7ba6fad5e5b",
      "99d0c765c4cb46199535d9298c31b079",
      "7fc2faab1c5341daac948c06b0092586",
      "2bda218cf4ca4916a6d47386e79011e8",
      "815dd47655b9406b9e57f8fa25b01959",
      "4af67747dd304fe398f8dd678b4d53e3",
      "4afdf7bfcf1845de9f3ed0bd87deacfa",
      "3cdcfaae444b4390801ce89df217a381",
      "dd21d801a1764f7baae0d44eae5baf13",
      "e285b3faccd544fbbc77303541520717",
      "da36cc0a40854dac9473cb1fe8872e24",
      "eb3d0cef340e40eb8779d95c2190eb7a",
      "59925182527f4c8280e378d8fefb7926",
      "3ae3c85c361941778384e9662a03cdf6",
      "88231b8d1f3745efac3e4900203cafd1",
      "ee4abda0a8414325acd3fffdc428f81c",
      "3cfc09a2b94646d88dfc9a46993500c1",
      "307bf003b83a42e185b24297fa613516",
      "b75fae4c631949618b46b072ed444465",
      "52f3c5ad47284997afa7d79131a9d1d3",
      "1f04d177702949f195d333d31fcda96e",
      "fd3c5384031d4e19b68f85cf528388fa",
      "1d6f281f438147928047a3c50008108a",
      "4085048dfb3d464eb9e6706a8a0f7d14",
      "392e8b0c99c946d68c3c4dcd0870cb3a",
      "d82a83562c4e4845b6a11088de0184c8",
      "f1fb10bf90724b3bb50de59a477924e7",
      "cc1f104f6eec4095b86ddc2e17226b9a",
      "40712c6f79f44968902a7a1d5d7dca55",
      "67b4f0c7eb2e4fcc97a377537ad20f52",
      "ef719b411a6347d78c6bf683a8d6978b"
     ]
    },
    "executionInfo": {
     "elapsed": 167251,
     "status": "ok",
     "timestamp": 1741596795333,
     "user": {
      "displayName": "Abd Alkarim",
      "userId": "03458153634795249349"
     },
     "user_tz": -180
    },
    "id": "VBaavdvrr3hd",
    "outputId": "91cdb9c5-c1b2-4bba-edf1-72822c0bda1a"
   },
   "outputs": [
    {
     "data": {
      "application/vnd.jupyter.widget-view+json": {
       "model_id": "6c3751128821454dbd05df00bda18703",
       "version_major": 2,
       "version_minor": 0
      },
      "text/plain": [
       "Map:   0%|          | 0/6104 [00:00<?, ? examples/s]"
      ]
     },
     "metadata": {},
     "output_type": "display_data"
    },
    {
     "data": {
      "application/vnd.jupyter.widget-view+json": {
       "model_id": "e285b3faccd544fbbc77303541520717",
       "version_major": 2,
       "version_minor": 0
      },
      "text/plain": [
       "Map:   0%|          | 0/784 [00:00<?, ? examples/s]"
      ]
     },
     "metadata": {},
     "output_type": "display_data"
    },
    {
     "data": {
      "application/vnd.jupyter.widget-view+json": {
       "model_id": "1f04d177702949f195d333d31fcda96e",
       "version_major": 2,
       "version_minor": 0
      },
      "text/plain": [
       "Map:   0%|          | 0/770 [00:00<?, ? examples/s]"
      ]
     },
     "metadata": {},
     "output_type": "display_data"
    }
   ],
   "source": [
    "features = Features({\n",
    "    'label': ClassLabel(names=classes_names),\n",
    "    'img': Array3D(dtype=\"int64\", shape=(3,48,48)),\n",
    "    'pixel_values': Array3D(dtype=\"float32\", shape=(3, 224, 224)),\n",
    "})\n",
    "\n",
    "preprocessed_train_ds = train_ds.map(preprocess_images, batched=True,  features=features)\n",
    "\n",
    "preprocessed_val_ds = val_ds.map(preprocess_images, batched=True, features=features)\n",
    "\n",
    "preprocessed_test_ds = test_ds.map(preprocess_images, batched=True, features=features)"
   ]
  },
  {
   "cell_type": "code",
   "execution_count": 19,
   "metadata": {
    "colab": {
     "base_uri": "https://localhost:8080/"
    },
    "executionInfo": {
     "elapsed": 23,
     "status": "ok",
     "timestamp": 1741596851185,
     "user": {
      "displayName": "Abd Alkarim",
      "userId": "03458153634795249349"
     },
     "user_tz": -180
    },
    "id": "munCmzfH1fpY",
    "outputId": "6f3efb68-05c8-434d-e67b-52b76752fc26"
   },
   "outputs": [
    {
     "data": {
      "text/plain": [
       "Dataset({\n",
       "    features: ['label', 'img', 'pixel_values'],\n",
       "    num_rows: 6104\n",
       "})"
      ]
     },
     "execution_count": 19,
     "metadata": {},
     "output_type": "execute_result"
    }
   ],
   "source": [
    "preprocessed_train_ds"
   ]
  },
  {
   "cell_type": "code",
   "execution_count": 20,
   "metadata": {
    "executionInfo": {
     "elapsed": 6,
     "status": "ok",
     "timestamp": 1741596881133,
     "user": {
      "displayName": "Abd Alkarim",
      "userId": "03458153634795249349"
     },
     "user_tz": -180
    },
    "id": "AF8ESkDuqyJw"
   },
   "outputs": [],
   "source": [
    "from matplotlib import pyplot as plt"
   ]
  },
  {
   "cell_type": "code",
   "execution_count": 21,
   "metadata": {
    "colab": {
     "base_uri": "https://localhost:8080/",
     "height": 430
    },
    "executionInfo": {
     "elapsed": 203,
     "status": "ok",
     "timestamp": 1741596968492,
     "user": {
      "displayName": "Abd Alkarim",
      "userId": "03458153634795249349"
     },
     "user_tz": -180
    },
    "id": "Sy3ovmv8P1z5",
    "outputId": "c0c4417b-dc78-4e09-da69-a18d835de540"
   },
   "outputs": [
    {
     "data": {
      "image/png": "[encoded data removed]",
      "text/plain": [
       "<Figure size 640x480 with 1 Axes>"
      ]
     },
     "metadata": {},
     "output_type": "display_data"
    }
   ],
   "source": [
    "keys, counts = np.unique(preprocessed_train_ds[\"label\"], return_counts=True)\n",
    "plt.bar(classes_names, counts)\n",
    "plt.show()"
   ]
  },
  {
   "cell_type": "code",
   "execution_count": 22,
   "metadata": {
    "colab": {
     "base_uri": "https://localhost:8080/",
     "height": 113,
     "referenced_widgets": [
      "a2cb7c0763db47279656a777fae6d9e8",
      "bd16d9050aaf49f9870753b80c3e3112",
      "ec8ae8be3c27443cb33d75dbe93f02c8",
      "04a05c4ab4c7481b988edf3bd889081f",
      "63da637a5f354b488f017fbf517fc6cb",
      "3656777d4a07429e9e894e560e618f0c",
      "b6a9478e58cd4d2b9176925cefda69e4",
      "43bd71095543490f9575f25fd325bf7e",
      "45d9b025a94e4aa480ead1ef651a3bd4",
      "7d80ea01e2c34869b2103c2e70f6f158",
      "660812cac26047a694a5292a6d017e98",
      "4e0c6ce058c64a32a232ed380ef2a857",
      "e60ef0cd2c01411c9e0d04e3ba002ec8",
      "8700a5118d8840c8a63cf2706c4fadc2",
      "621d2519dd7d4f6c997c8de87656eae6",
      "b91d683bdf16488cb098469432f165c3",
      "ce642211f7aa46bb81b3bc9d3d881abb",
      "864407e9ba174d0e9d1fdd51f5aa8797",
      "d5732855ac2a4dc7acc80ff511863e5b",
      "b97101ae88684e7b9763cd8941bd3645",
      "2df1eb59ec8b4df7aac32a2655303291",
      "51d2cffa1f314a15829a052a5e6227b7",
      "d4e5eb7290884d4a87399aa900b7383f",
      "acf43ad6790a4b029417fc0d875e03ee",
      "68cb0b0408724dcc9824c3b2b2964a4c",
      "aac5bfde022442418a05090e4eee0013",
      "f483ad67eaac438787a8e0f1ee034d4f",
      "ba8dd68cb8304e57b49e22960e32502a",
      "1f6a22452ad247fd93142e23ae2cea58",
      "74d4aa4b6ee94010b64806905c00002a",
      "998de967e7a64655a85d63de35f7d72f",
      "c32ce617465f43c1850cf86d870c1946",
      "5f945a8dda904eefa8076e341ec33c77"
     ]
    },
    "executionInfo": {
     "elapsed": 62803,
     "status": "ok",
     "timestamp": 1741597121995,
     "user": {
      "displayName": "Abd Alkarim",
      "userId": "03458153634795249349"
     },
     "user_tz": -180
    },
    "id": "f0-YCeCs9ik4",
    "outputId": "df72f5ba-1e75-4dbe-f48b-d1aaca5cbdbc"
   },
   "outputs": [
    {
     "data": {
      "application/vnd.jupyter.widget-view+json": {
       "model_id": "a2cb7c0763db47279656a777fae6d9e8",
       "version_major": 2,
       "version_minor": 0
      },
      "text/plain": [
       "Saving the dataset (0/9 shards):   0%|          | 0/6104 [00:00<?, ? examples/s]"
      ]
     },
     "metadata": {},
     "output_type": "display_data"
    },
    {
     "data": {
      "application/vnd.jupyter.widget-view+json": {
       "model_id": "4e0c6ce058c64a32a232ed380ef2a857",
       "version_major": 2,
       "version_minor": 0
      },
      "text/plain": [
       "Saving the dataset (0/2 shards):   0%|          | 0/770 [00:00<?, ? examples/s]"
      ]
     },
     "metadata": {},
     "output_type": "display_data"
    },
    {
     "data": {
      "application/vnd.jupyter.widget-view+json": {
       "model_id": "d4e5eb7290884d4a87399aa900b7383f",
       "version_major": 2,
       "version_minor": 0
      },
      "text/plain": [
       "Saving the dataset (0/2 shards):   0%|          | 0/784 [00:00<?, ? examples/s]"
      ]
     },
     "metadata": {},
     "output_type": "display_data"
    }
   ],
   "source": [
    "preprocessed_train_ds.save_to_disk(working_folder  + 'preprocessed_train_dataset')\n",
    "preprocessed_test_ds.save_to_disk(working_folder +'preprocessed_test_dataset')\n",
    "preprocessed_val_ds.save_to_disk(working_folder + 'preprocessed_val_dataset')"
   ]
  }
 ],
 "metadata": {
  "accelerator": "GPU",
  "colab": {
   "gpuType": "T4",
   "provenance": []
  },
  "kernelspec": {
   "display_name": "Python 3",
   "name": "python3"
  },
  "language_info": {
   "name": "python"
  },
  "widgets": {
   "application/vnd.jupyter.widget-state+json": {
    "04a05c4ab4c7481b988edf3bd889081f": {
     "model_module": "@jupyter-widgets/controls",
     "model_module_version": "1.5.0",
     "model_name": "HTMLModel",
     "state": {
      "_dom_classes": [],
      "_model_module": "@jupyter-widgets/controls",
      "_model_module_version": "1.5.0",
      "_model_name": "HTMLModel",
      "_view_count": null,
      "_view_module": "@jupyter-widgets/controls",
      "_view_module_version": "1.5.0",
      "_view_name": "HTMLView",
      "description": "",
      "description_tooltip": null,
      "layout": "IPY_MODEL_7d80ea01e2c34869b2103c2e70f6f158",
      "placeholder": "​",
      "style": "IPY_MODEL_660812cac26047a694a5292a6d017e98",
      "value": " 6104/6104 [00:50&lt;00:00, 118.96 examples/s]"
     }
    },
    "07fa7807243a4aee865cf30d8760ea95": {
     "model_module": "@jupyter-widgets/controls",
     "model_module_version": "1.5.0",
     "model_name": "DescriptionStyleModel",
     "state": {
      "_model_module": "@jupyter-widgets/controls",
      "_model_module_version": "1.5.0",
      "_model_name": "DescriptionStyleModel",
      "_view_count": null,
      "_view_module": "@jupyter-widgets/base",
      "_view_module_version": "1.2.0",
      "_view_name": "StyleView",
      "description_width": ""
     }
    },
    "145ff1c52cb045fa8e352976fa9aa45a": {
     "model_module": "@jupyter-widgets/base",
     "model_module_version": "1.2.0",
     "model_name": "LayoutModel",
     "state": {
      "_model_module": "@jupyter-widgets/base",
      "_model_module_version": "1.2.0",
      "_model_name": "LayoutModel",
      "_view_count": null,
      "_view_module": "@jupyter-widgets/base",
      "_view_module_version": "1.2.0",
      "_view_name": "LayoutView",
      "align_content": null,
      "align_items": null,
      "align_self": null,
      "border": null,
      "bottom": null,
      "display": null,
      "flex": null,
      "flex_flow": null,
      "grid_area": null,
      "grid_auto_columns": null,
      "grid_auto_flow": null,
      "grid_auto_rows": null,
      "grid_column": null,
      "grid_gap": null,
      "grid_row": null,
      "grid_template_areas": null,
      "grid_template_columns": null,
      "grid_template_rows": null,
      "height": null,
      "justify_content": null,
      "justify_items": null,
      "left": null,
      "margin": null,
      "max_height": null,
      "max_width": null,
      "min_height": null,
      "min_width": null,
      "object_fit": null,
      "object_position": null,
      "order": null,
      "overflow": null,
      "overflow_x": null,
      "overflow_y": null,
      "padding": null,
      "right": null,
      "top": null,
      "visibility": null,
      "width": null
     }
    },
    "1d6f281f438147928047a3c50008108a": {
     "model_module": "@jupyter-widgets/controls",
     "model_module_version": "1.5.0",
     "model_name": "FloatProgressModel",
     "state": {
      "_dom_classes": [],
      "_model_module": "@jupyter-widgets/controls",
      "_model_module_version": "1.5.0",
      "_model_name": "FloatProgressModel",
      "_view_count": null,
      "_view_module": "@jupyter-widgets/controls",
      "_view_module_version": "1.5.0",
      "_view_name": "ProgressView",
      "bar_style": "success",
      "description": "",
      "description_tooltip": null,
      "layout": "IPY_MODEL_cc1f104f6eec4095b86ddc2e17226b9a",
      "max": 770,
      "min": 0,
      "orientation": "horizontal",
      "style": "IPY_MODEL_40712c6f79f44968902a7a1d5d7dca55",
      "value": 770
     }
    },
    "1f04d177702949f195d333d31fcda96e": {
     "model_module": "@jupyter-widgets/controls",
     "model_module_version": "1.5.0",
     "model_name": "HBoxModel",
     "state": {
      "_dom_classes": [],
      "_model_module": "@jupyter-widgets/controls",
      "_model_module_version": "1.5.0",
      "_model_name": "HBoxModel",
      "_view_count": null,
      "_view_module": "@jupyter-widgets/controls",
      "_view_module_version": "1.5.0",
      "_view_name": "HBoxView",
      "box_style": "",
      "children": [
       "IPY_MODEL_fd3c5384031d4e19b68f85cf528388fa",
       "IPY_MODEL_1d6f281f438147928047a3c50008108a",
       "IPY_MODEL_4085048dfb3d464eb9e6706a8a0f7d14"
      ],
      "layout": "IPY_MODEL_392e8b0c99c946d68c3c4dcd0870cb3a"
     }
    },
    "1f6a22452ad247fd93142e23ae2cea58": {
     "model_module": "@jupyter-widgets/controls",
     "model_module_version": "1.5.0",
     "model_name": "DescriptionStyleModel",
     "state": {
      "_model_module": "@jupyter-widgets/controls",
      "_model_module_version": "1.5.0",
      "_model_name": "DescriptionStyleModel",
      "_view_count": null,
      "_view_module": "@jupyter-widgets/base",
      "_view_module_version": "1.2.0",
      "_view_name": "StyleView",
      "description_width": ""
     }
    },
    "21f8d71a314e4479afd253e4d28a7578": {
     "model_module": "@jupyter-widgets/controls",
     "model_module_version": "1.5.0",
     "model_name": "HTMLModel",
     "state": {
      "_dom_classes": [],
      "_model_module": "@jupyter-widgets/controls",
      "_model_module_version": "1.5.0",
      "_model_name": "HTMLModel",
      "_view_count": null,
      "_view_module": "@jupyter-widgets/controls",
      "_view_module_version": "1.5.0",
      "_view_name": "HTMLView",
      "description": "",
      "description_tooltip": null,
      "layout": "IPY_MODEL_fce771d6d7184ff8bb09f97ce8195a4e",
      "placeholder": "​",
      "style": "IPY_MODEL_2b30bd01c3a44c139c4d17841e42625f",
      "value": "preprocessor_config.json: 100%"
     }
    },
    "2b30bd01c3a44c139c4d17841e42625f": {
     "model_module": "@jupyter-widgets/controls",
     "model_module_version": "1.5.0",
     "model_name": "DescriptionStyleModel",
     "state": {
      "_model_module": "@jupyter-widgets/controls",
      "_model_module_version": "1.5.0",
      "_model_name": "DescriptionStyleModel",
      "_view_count": null,
      "_view_module": "@jupyter-widgets/base",
      "_view_module_version": "1.2.0",
      "_view_name": "StyleView",
      "description_width": ""
     }
    },
    "2bda218cf4ca4916a6d47386e79011e8": {
     "model_module": "@jupyter-widgets/base",
     "model_module_version": "1.2.0",
     "model_name": "LayoutModel",
     "state": {
      "_model_module": "@jupyter-widgets/base",
      "_model_module_version": "1.2.0",
      "_model_name": "LayoutModel",
      "_view_count": null,
      "_view_module": "@jupyter-widgets/base",
      "_view_module_version": "1.2.0",
      "_view_name": "LayoutView",
      "align_content": null,
      "align_items": null,
      "align_self": null,
      "border": null,
      "bottom": null,
      "display": null,
      "flex": null,
      "flex_flow": null,
      "grid_area": null,
      "grid_auto_columns": null,
      "grid_auto_flow": null,
      "grid_auto_rows": null,
      "grid_column": null,
      "grid_gap": null,
      "grid_row": null,
      "grid_template_areas": null,
      "grid_template_columns": null,
      "grid_template_rows": null,
      "height": null,
      "justify_content": null,
      "justify_items": null,
      "left": null,
      "margin": null,
      "max_height": null,
      "max_width": null,
      "min_height": null,
      "min_width": null,
      "object_fit": null,
      "object_position": null,
      "order": null,
      "overflow": null,
      "overflow_x": null,
      "overflow_y": null,
      "padding": null,
      "right": null,
      "top": null,
      "visibility": null,
      "width": null
     }
    },
    "2df1eb59ec8b4df7aac32a2655303291": {
     "model_module": "@jupyter-widgets/base",
     "model_module_version": "1.2.0",
     "model_name": "LayoutModel",
     "state": {
      "_model_module": "@jupyter-widgets/base",
      "_model_module_version": "1.2.0",
      "_model_name": "LayoutModel",
      "_view_count": null,
      "_view_module": "@jupyter-widgets/base",
      "_view_module_version": "1.2.0",
      "_view_name": "LayoutView",
      "align_content": null,
      "align_items": null,
      "align_self": null,
      "border": null,
      "bottom": null,
      "display": null,
      "flex": null,
      "flex_flow": null,
      "grid_area": null,
      "grid_auto_columns": null,
      "grid_auto_flow": null,
      "grid_auto_rows": null,
      "grid_column": null,
      "grid_gap": null,
      "grid_row": null,
      "grid_template_areas": null,
      "grid_template_columns": null,
      "grid_template_rows": null,
      "height": null,
      "justify_content": null,
      "justify_items": null,
      "left": null,
      "margin": null,
      "max_height": null,
      "max_width": null,
      "min_height": null,
      "min_width": null,
      "object_fit": null,
      "object_position": null,
      "order": null,
      "overflow": null,
      "overflow_x": null,
      "overflow_y": null,
      "padding": null,
      "right": null,
      "top": null,
      "visibility": null,
      "width": null
     }
    },
    "307bf003b83a42e185b24297fa613516": {
     "model_module": "@jupyter-widgets/controls",
     "model_module_version": "1.5.0",
     "model_name": "ProgressStyleModel",
     "state": {
      "_model_module": "@jupyter-widgets/controls",
      "_model_module_version": "1.5.0",
      "_model_name": "ProgressStyleModel",
      "_view_count": null,
      "_view_module": "@jupyter-widgets/base",
      "_view_module_version": "1.2.0",
      "_view_name": "StyleView",
      "bar_color": null,
      "description_width": ""
     }
    },
    "3656777d4a07429e9e894e560e618f0c": {
     "model_module": "@jupyter-widgets/base",
     "model_module_version": "1.2.0",
     "model_name": "LayoutModel",
     "state": {
      "_model_module": "@jupyter-widgets/base",
      "_model_module_version": "1.2.0",
      "_model_name": "LayoutModel",
      "_view_count": null,
      "_view_module": "@jupyter-widgets/base",
      "_view_module_version": "1.2.0",
      "_view_name": "LayoutView",
      "align_content": null,
      "align_items": null,
      "align_self": null,
      "border": null,
      "bottom": null,
      "display": null,
      "flex": null,
      "flex_flow": null,
      "grid_area": null,
      "grid_auto_columns": null,
      "grid_auto_flow": null,
      "grid_auto_rows": null,
      "grid_column": null,
      "grid_gap": null,
      "grid_row": null,
      "grid_template_areas": null,
      "grid_template_columns": null,
      "grid_template_rows": null,
      "height": null,
      "justify_content": null,
      "justify_items": null,
      "left": null,
      "margin": null,
      "max_height": null,
      "max_width": null,
      "min_height": null,
      "min_width": null,
      "object_fit": null,
      "object_position": null,
      "order": null,
      "overflow": null,
      "overflow_x": null,
      "overflow_y": null,
      "padding": null,
      "right": null,
      "top": null,
      "visibility": null,
      "width": null
     }
    },
    "392e8b0c99c946d68c3c4dcd0870cb3a": {
     "model_module": "@jupyter-widgets/base",
     "model_module_version": "1.2.0",
     "model_name": "LayoutModel",
     "state": {
      "_model_module": "@jupyter-widgets/base",
      "_model_module_version": "1.2.0",
      "_model_name": "LayoutModel",
      "_view_count": null,
      "_view_module": "@jupyter-widgets/base",
      "_view_module_version": "1.2.0",
      "_view_name": "LayoutView",
      "align_content": null,
      "align_items": null,
      "align_self": null,
      "border": null,
      "bottom": null,
      "display": null,
      "flex": null,
      "flex_flow": null,
      "grid_area": null,
      "grid_auto_columns": null,
      "grid_auto_flow": null,
      "grid_auto_rows": null,
      "grid_column": null,
      "grid_gap": null,
      "grid_row": null,
      "grid_template_areas": null,
      "grid_template_columns": null,
      "grid_template_rows": null,
      "height": null,
      "justify_content": null,
      "justify_items": null,
      "left": null,
      "margin": null,
      "max_height": null,
      "max_width": null,
      "min_height": null,
      "min_width": null,
      "object_fit": null,
      "object_position": null,
      "order": null,
      "overflow": null,
      "overflow_x": null,
      "overflow_y": null,
      "padding": null,
      "right": null,
      "top": null,
      "visibility": null,
      "width": null
     }
    },
    "3ae3c85c361941778384e9662a03cdf6": {
     "model_module": "@jupyter-widgets/base",
     "model_module_version": "1.2.0",
     "model_name": "LayoutModel",
     "state": {
      "_model_module": "@jupyter-widgets/base",
      "_model_module_version": "1.2.0",
      "_model_name": "LayoutModel",
      "_view_count": null,
      "_view_module": "@jupyter-widgets/base",
      "_view_module_version": "1.2.0",
      "_view_name": "LayoutView",
      "align_content": null,
      "align_items": null,
      "align_self": null,
      "border": null,
      "bottom": null,
      "display": null,
      "flex": null,
      "flex_flow": null,
      "grid_area": null,
      "grid_auto_columns": null,
      "grid_auto_flow": null,
      "grid_auto_rows": null,
      "grid_column": null,
      "grid_gap": null,
      "grid_row": null,
      "grid_template_areas": null,
      "grid_template_columns": null,
      "grid_template_rows": null,
      "height": null,
      "justify_content": null,
      "justify_items": null,
      "left": null,
      "margin": null,
      "max_height": null,
      "max_width": null,
      "min_height": null,
      "min_width": null,
      "object_fit": null,
      "object_position": null,
      "order": null,
      "overflow": null,
      "overflow_x": null,
      "overflow_y": null,
      "padding": null,
      "right": null,
      "top": null,
      "visibility": null,
      "width": null
     }
    },
    "3cdcfaae444b4390801ce89df217a381": {
     "model_module": "@jupyter-widgets/base",
     "model_module_version": "1.2.0",
     "model_name": "LayoutModel",
     "state": {
      "_model_module": "@jupyter-widgets/base",
      "_model_module_version": "1.2.0",
      "_model_name": "LayoutModel",
      "_view_count": null,
      "_view_module": "@jupyter-widgets/base",
      "_view_module_version": "1.2.0",
      "_view_name": "LayoutView",
      "align_content": null,
      "align_items": null,
      "align_self": null,
      "border": null,
      "bottom": null,
      "display": null,
      "flex": null,
      "flex_flow": null,
      "grid_area": null,
      "grid_auto_columns": null,
      "grid_auto_flow": null,
      "grid_auto_rows": null,
      "grid_column": null,
      "grid_gap": null,
      "grid_row": null,
      "grid_template_areas": null,
      "grid_template_columns": null,
      "grid_template_rows": null,
      "height": null,
      "justify_content": null,
      "justify_items": null,
      "left": null,
      "margin": null,
      "max_height": null,
      "max_width": null,
      "min_height": null,
      "min_width": null,
      "object_fit": null,
      "object_position": null,
      "order": null,
      "overflow": null,
      "overflow_x": null,
      "overflow_y": null,
      "padding": null,
      "right": null,
      "top": null,
      "visibility": null,
      "width": null
     }
    },
    "3cfc09a2b94646d88dfc9a46993500c1": {
     "model_module": "@jupyter-widgets/base",
     "model_module_version": "1.2.0",
     "model_name": "LayoutModel",
     "state": {
      "_model_module": "@jupyter-widgets/base",
      "_model_module_version": "1.2.0",
      "_model_name": "LayoutModel",
      "_view_count": null,
      "_view_module": "@jupyter-widgets/base",
      "_view_module_version": "1.2.0",
      "_view_name": "LayoutView",
      "align_content": null,
      "align_items": null,
      "align_self": null,
      "border": null,
      "bottom": null,
      "display": null,
      "flex": null,
      "flex_flow": null,
      "grid_area": null,
      "grid_auto_columns": null,
      "grid_auto_flow": null,
      "grid_auto_rows": null,
      "grid_column": null,
      "grid_gap": null,
      "grid_row": null,
      "grid_template_areas": null,
      "grid_template_columns": null,
      "grid_template_rows": null,
      "height": null,
      "justify_content": null,
      "justify_items": null,
      "left": null,
      "margin": null,
      "max_height": null,
      "max_width": null,
      "min_height": null,
      "min_width": null,
      "object_fit": null,
      "object_position": null,
      "order": null,
      "overflow": null,
      "overflow_x": null,
      "overflow_y": null,
      "padding": null,
      "right": null,
      "top": null,
      "visibility": null,
      "width": null
     }
    },
    "40712c6f79f44968902a7a1d5d7dca55": {
     "model_module": "@jupyter-widgets/controls",
     "model_module_version": "1.5.0",
     "model_name": "ProgressStyleModel",
     "state": {
      "_model_module": "@jupyter-widgets/controls",
      "_model_module_version": "1.5.0",
      "_model_name": "ProgressStyleModel",
      "_view_count": null,
      "_view_module": "@jupyter-widgets/base",
      "_view_module_version": "1.2.0",
      "_view_name": "StyleView",
      "bar_color": null,
      "description_width": ""
     }
    },
    "4085048dfb3d464eb9e6706a8a0f7d14": {
     "model_module": "@jupyter-widgets/controls",
     "model_module_version": "1.5.0",
     "model_name": "HTMLModel",
     "state": {
      "_dom_classes": [],
      "_model_module": "@jupyter-widgets/controls",
      "_model_module_version": "1.5.0",
      "_model_name": "HTMLModel",
      "_view_count": null,
      "_view_module": "@jupyter-widgets/controls",
      "_view_module_version": "1.5.0",
      "_view_name": "HTMLView",
      "description": "",
      "description_tooltip": null,
      "layout": "IPY_MODEL_67b4f0c7eb2e4fcc97a377537ad20f52",
      "placeholder": "​",
      "style": "IPY_MODEL_ef719b411a6347d78c6bf683a8d6978b",
      "value": " 770/770 [00:36&lt;00:00, 21.44 examples/s]"
     }
    },
    "43bd71095543490f9575f25fd325bf7e": {
     "model_module": "@jupyter-widgets/base",
     "model_module_version": "1.2.0",
     "model_name": "LayoutModel",
     "state": {
      "_model_module": "@jupyter-widgets/base",
      "_model_module_version": "1.2.0",
      "_model_name": "LayoutModel",
      "_view_count": null,
      "_view_module": "@jupyter-widgets/base",
      "_view_module_version": "1.2.0",
      "_view_name": "LayoutView",
      "align_content": null,
      "align_items": null,
      "align_self": null,
      "border": null,
      "bottom": null,
      "display": null,
      "flex": null,
      "flex_flow": null,
      "grid_area": null,
      "grid_auto_columns": null,
      "grid_auto_flow": null,
      "grid_auto_rows": null,
      "grid_column": null,
      "grid_gap": null,
      "grid_row": null,
      "grid_template_areas": null,
      "grid_template_columns": null,
      "grid_template_rows": null,
      "height": null,
      "justify_content": null,
      "justify_items": null,
      "left": null,
      "margin": null,
      "max_height": null,
      "max_width": null,
      "min_height": null,
      "min_width": null,
      "object_fit": null,
      "object_position": null,
      "order": null,
      "overflow": null,
      "overflow_x": null,
      "overflow_y": null,
      "padding": null,
      "right": null,
      "top": null,
      "visibility": null,
      "width": null
     }
    },
    "45d9b025a94e4aa480ead1ef651a3bd4": {
     "model_module": "@jupyter-widgets/controls",
     "model_module_version": "1.5.0",
     "model_name": "ProgressStyleModel",
     "state": {
      "_model_module": "@jupyter-widgets/controls",
      "_model_module_version": "1.5.0",
      "_model_name": "ProgressStyleModel",
      "_view_count": null,
      "_view_module": "@jupyter-widgets/base",
      "_view_module_version": "1.2.0",
      "_view_name": "StyleView",
      "bar_color": null,
      "description_width": ""
     }
    },
    "4af67747dd304fe398f8dd678b4d53e3": {
     "model_module": "@jupyter-widgets/base",
     "model_module_version": "1.2.0",
     "model_name": "LayoutModel",
     "state": {
      "_model_module": "@jupyter-widgets/base",
      "_model_module_version": "1.2.0",
      "_model_name": "LayoutModel",
      "_view_count": null,
      "_view_module": "@jupyter-widgets/base",
      "_view_module_version": "1.2.0",
      "_view_name": "LayoutView",
      "align_content": null,
      "align_items": null,
      "align_self": null,
      "border": null,
      "bottom": null,
      "display": null,
      "flex": null,
      "flex_flow": null,
      "grid_area": null,
      "grid_auto_columns": null,
      "grid_auto_flow": null,
      "grid_auto_rows": null,
      "grid_column": null,
      "grid_gap": null,
      "grid_row": null,
      "grid_template_areas": null,
      "grid_template_columns": null,
      "grid_template_rows": null,
      "height": null,
      "justify_content": null,
      "justify_items": null,
      "left": null,
      "margin": null,
      "max_height": null,
      "max_width": null,
      "min_height": null,
      "min_width": null,
      "object_fit": null,
      "object_position": null,
      "order": null,
      "overflow": null,
      "overflow_x": null,
      "overflow_y": null,
      "padding": null,
      "right": null,
      "top": null,
      "visibility": null,
      "width": null
     }
    },
    "4afdf7bfcf1845de9f3ed0bd87deacfa": {
     "model_module": "@jupyter-widgets/controls",
     "model_module_version": "1.5.0",
     "model_name": "ProgressStyleModel",
     "state": {
      "_model_module": "@jupyter-widgets/controls",
      "_model_module_version": "1.5.0",
      "_model_name": "ProgressStyleModel",
      "_view_count": null,
      "_view_module": "@jupyter-widgets/base",
      "_view_module_version": "1.2.0",
      "_view_name": "StyleView",
      "bar_color": null,
      "description_width": ""
     }
    },
    "4e0c6ce058c64a32a232ed380ef2a857": {
     "model_module": "@jupyter-widgets/controls",
     "model_module_version": "1.5.0",
     "model_name": "HBoxModel",
     "state": {
      "_dom_classes": [],
      "_model_module": "@jupyter-widgets/controls",
      "_model_module_version": "1.5.0",
      "_model_name": "HBoxModel",
      "_view_count": null,
      "_view_module": "@jupyter-widgets/controls",
      "_view_module_version": "1.5.0",
      "_view_name": "HBoxView",
      "box_style": "",
      "children": [
       "IPY_MODEL_e60ef0cd2c01411c9e0d04e3ba002ec8",
       "IPY_MODEL_8700a5118d8840c8a63cf2706c4fadc2",
       "IPY_MODEL_621d2519dd7d4f6c997c8de87656eae6"
      ],
      "layout": "IPY_MODEL_b91d683bdf16488cb098469432f165c3"
     }
    },
    "51d2cffa1f314a15829a052a5e6227b7": {
     "model_module": "@jupyter-widgets/controls",
     "model_module_version": "1.5.0",
     "model_name": "DescriptionStyleModel",
     "state": {
      "_model_module": "@jupyter-widgets/controls",
      "_model_module_version": "1.5.0",
      "_model_name": "DescriptionStyleModel",
      "_view_count": null,
      "_view_module": "@jupyter-widgets/base",
      "_view_module_version": "1.2.0",
      "_view_name": "StyleView",
      "description_width": ""
     }
    },
    "52f3c5ad47284997afa7d79131a9d1d3": {
     "model_module": "@jupyter-widgets/controls",
     "model_module_version": "1.5.0",
     "model_name": "DescriptionStyleModel",
     "state": {
      "_model_module": "@jupyter-widgets/controls",
      "_model_module_version": "1.5.0",
      "_model_name": "DescriptionStyleModel",
      "_view_count": null,
      "_view_module": "@jupyter-widgets/base",
      "_view_module_version": "1.2.0",
      "_view_name": "StyleView",
      "description_width": ""
     }
    },
    "5947758087dc481ba8a72ae5880850b0": {
     "model_module": "@jupyter-widgets/controls",
     "model_module_version": "1.5.0",
     "model_name": "HBoxModel",
     "state": {
      "_dom_classes": [],
      "_model_module": "@jupyter-widgets/controls",
      "_model_module_version": "1.5.0",
      "_model_name": "HBoxModel",
      "_view_count": null,
      "_view_module": "@jupyter-widgets/controls",
      "_view_module_version": "1.5.0",
      "_view_name": "HBoxView",
      "box_style": "",
      "children": [
       "IPY_MODEL_21f8d71a314e4479afd253e4d28a7578",
       "IPY_MODEL_61413dd52a2b426cb4b7f0b8755c00df",
       "IPY_MODEL_88b5013facf54e838605dba56318d33e"
      ],
      "layout": "IPY_MODEL_84897e3d6a764a9493f5abbcff54b1c1"
     }
    },
    "59925182527f4c8280e378d8fefb7926": {
     "model_module": "@jupyter-widgets/controls",
     "model_module_version": "1.5.0",
     "model_name": "HTMLModel",
     "state": {
      "_dom_classes": [],
      "_model_module": "@jupyter-widgets/controls",
      "_model_module_version": "1.5.0",
      "_model_name": "HTMLModel",
      "_view_count": null,
      "_view_module": "@jupyter-widgets/controls",
      "_view_module_version": "1.5.0",
      "_view_name": "HTMLView",
      "description": "",
      "description_tooltip": null,
      "layout": "IPY_MODEL_b75fae4c631949618b46b072ed444465",
      "placeholder": "​",
      "style": "IPY_MODEL_52f3c5ad47284997afa7d79131a9d1d3",
      "value": " 784/784 [00:19&lt;00:00, 43.09 examples/s]"
     }
    },
    "5f945a8dda904eefa8076e341ec33c77": {
     "model_module": "@jupyter-widgets/controls",
     "model_module_version": "1.5.0",
     "model_name": "DescriptionStyleModel",
     "state": {
      "_model_module": "@jupyter-widgets/controls",
      "_model_module_version": "1.5.0",
      "_model_name": "DescriptionStyleModel",
      "_view_count": null,
      "_view_module": "@jupyter-widgets/base",
      "_view_module_version": "1.2.0",
      "_view_name": "StyleView",
      "description_width": ""
     }
    },
    "61413dd52a2b426cb4b7f0b8755c00df": {
     "model_module": "@jupyter-widgets/controls",
     "model_module_version": "1.5.0",
     "model_name": "FloatProgressModel",
     "state": {
      "_dom_classes": [],
      "_model_module": "@jupyter-widgets/controls",
      "_model_module_version": "1.5.0",
      "_model_name": "FloatProgressModel",
      "_view_count": null,
      "_view_module": "@jupyter-widgets/controls",
      "_view_module_version": "1.5.0",
      "_view_name": "ProgressView",
      "bar_style": "success",
      "description": "",
      "description_tooltip": null,
      "layout": "IPY_MODEL_145ff1c52cb045fa8e352976fa9aa45a",
      "max": 160,
      "min": 0,
      "orientation": "horizontal",
      "style": "IPY_MODEL_fef550f907f8487195b1cc8748c0e220",
      "value": 160
     }
    },
    "621d2519dd7d4f6c997c8de87656eae6": {
     "model_module": "@jupyter-widgets/controls",
     "model_module_version": "1.5.0",
     "model_name": "HTMLModel",
     "state": {
      "_dom_classes": [],
      "_model_module": "@jupyter-widgets/controls",
      "_model_module_version": "1.5.0",
      "_model_name": "HTMLModel",
      "_view_count": null,
      "_view_module": "@jupyter-widgets/controls",
      "_view_module_version": "1.5.0",
      "_view_name": "HTMLView",
      "description": "",
      "description_tooltip": null,
      "layout": "IPY_MODEL_2df1eb59ec8b4df7aac32a2655303291",
      "placeholder": "​",
      "style": "IPY_MODEL_51d2cffa1f314a15829a052a5e6227b7",
      "value": " 770/770 [00:06&lt;00:00, 115.49 examples/s]"
     }
    },
    "63da637a5f354b488f017fbf517fc6cb": {
     "model_module": "@jupyter-widgets/base",
     "model_module_version": "1.2.0",
     "model_name": "LayoutModel",
     "state": {
      "_model_module": "@jupyter-widgets/base",
      "_model_module_version": "1.2.0",
      "_model_name": "LayoutModel",
      "_view_count": null,
      "_view_module": "@jupyter-widgets/base",
      "_view_module_version": "1.2.0",
      "_view_name": "LayoutView",
      "align_content": null,
      "align_items": null,
      "align_self": null,
      "border": null,
      "bottom": null,
      "display": null,
      "flex": null,
      "flex_flow": null,
      "grid_area": null,
      "grid_auto_columns": null,
      "grid_auto_flow": null,
      "grid_auto_rows": null,
      "grid_column": null,
      "grid_gap": null,
      "grid_row": null,
      "grid_template_areas": null,
      "grid_template_columns": null,
      "grid_template_rows": null,
      "height": null,
      "justify_content": null,
      "justify_items": null,
      "left": null,
      "margin": null,
      "max_height": null,
      "max_width": null,
      "min_height": null,
      "min_width": null,
      "object_fit": null,
      "object_position": null,
      "order": null,
      "overflow": null,
      "overflow_x": null,
      "overflow_y": null,
      "padding": null,
      "right": null,
      "top": null,
      "visibility": null,
      "width": null
     }
    },
    "660812cac26047a694a5292a6d017e98": {
     "model_module": "@jupyter-widgets/controls",
     "model_module_version": "1.5.0",
     "model_name": "DescriptionStyleModel",
     "state": {
      "_model_module": "@jupyter-widgets/controls",
      "_model_module_version": "1.5.0",
      "_model_name": "DescriptionStyleModel",
      "_view_count": null,
      "_view_module": "@jupyter-widgets/base",
      "_view_module_version": "1.2.0",
      "_view_name": "StyleView",
      "description_width": ""
     }
    },
    "67b4f0c7eb2e4fcc97a377537ad20f52": {
     "model_module": "@jupyter-widgets/base",
     "model_module_version": "1.2.0",
     "model_name": "LayoutModel",
     "state": {
      "_model_module": "@jupyter-widgets/base",
      "_model_module_version": "1.2.0",
      "_model_name": "LayoutModel",
      "_view_count": null,
      "_view_module": "@jupyter-widgets/base",
      "_view_module_version": "1.2.0",
      "_view_name": "LayoutView",
      "align_content": null,
      "align_items": null,
      "align_self": null,
      "border": null,
      "bottom": null,
      "display": null,
      "flex": null,
      "flex_flow": null,
      "grid_area": null,
      "grid_auto_columns": null,
      "grid_auto_flow": null,
      "grid_auto_rows": null,
      "grid_column": null,
      "grid_gap": null,
      "grid_row": null,
      "grid_template_areas": null,
      "grid_template_columns": null,
      "grid_template_rows": null,
      "height": null,
      "justify_content": null,
      "justify_items": null,
      "left": null,
      "margin": null,
      "max_height": null,
      "max_width": null,
      "min_height": null,
      "min_width": null,
      "object_fit": null,
      "object_position": null,
      "order": null,
      "overflow": null,
      "overflow_x": null,
      "overflow_y": null,
      "padding": null,
      "right": null,
      "top": null,
      "visibility": null,
      "width": null
     }
    },
    "68cb0b0408724dcc9824c3b2b2964a4c": {
     "model_module": "@jupyter-widgets/controls",
     "model_module_version": "1.5.0",
     "model_name": "FloatProgressModel",
     "state": {
      "_dom_classes": [],
      "_model_module": "@jupyter-widgets/controls",
      "_model_module_version": "1.5.0",
      "_model_name": "FloatProgressModel",
      "_view_count": null,
      "_view_module": "@jupyter-widgets/controls",
      "_view_module_version": "1.5.0",
      "_view_name": "ProgressView",
      "bar_style": "success",
      "description": "",
      "description_tooltip": null,
      "layout": "IPY_MODEL_74d4aa4b6ee94010b64806905c00002a",
      "max": 784,
      "min": 0,
      "orientation": "horizontal",
      "style": "IPY_MODEL_998de967e7a64655a85d63de35f7d72f",
      "value": 784
     }
    },
    "6c3751128821454dbd05df00bda18703": {
     "model_module": "@jupyter-widgets/controls",
     "model_module_version": "1.5.0",
     "model_name": "HBoxModel",
     "state": {
      "_dom_classes": [],
      "_model_module": "@jupyter-widgets/controls",
      "_model_module_version": "1.5.0",
      "_model_name": "HBoxModel",
      "_view_count": null,
      "_view_module": "@jupyter-widgets/controls",
      "_view_module_version": "1.5.0",
      "_view_name": "HBoxView",
      "box_style": "",
      "children": [
       "IPY_MODEL_fb3f4ff41a814a84a7de6f09bad4f11a",
       "IPY_MODEL_7ba1d6f2556f4497ae93d7ba6fad5e5b",
       "IPY_MODEL_99d0c765c4cb46199535d9298c31b079"
      ],
      "layout": "IPY_MODEL_7fc2faab1c5341daac948c06b0092586"
     }
    },
    "74d4aa4b6ee94010b64806905c00002a": {
     "model_module": "@jupyter-widgets/base",
     "model_module_version": "1.2.0",
     "model_name": "LayoutModel",
     "state": {
      "_model_module": "@jupyter-widgets/base",
      "_model_module_version": "1.2.0",
      "_model_name": "LayoutModel",
      "_view_count": null,
      "_view_module": "@jupyter-widgets/base",
      "_view_module_version": "1.2.0",
      "_view_name": "LayoutView",
      "align_content": null,
      "align_items": null,
      "align_self": null,
      "border": null,
      "bottom": null,
      "display": null,
      "flex": null,
      "flex_flow": null,
      "grid_area": null,
      "grid_auto_columns": null,
      "grid_auto_flow": null,
      "grid_auto_rows": null,
      "grid_column": null,
      "grid_gap": null,
      "grid_row": null,
      "grid_template_areas": null,
      "grid_template_columns": null,
      "grid_template_rows": null,
      "height": null,
      "justify_content": null,
      "justify_items": null,
      "left": null,
      "margin": null,
      "max_height": null,
      "max_width": null,
      "min_height": null,
      "min_width": null,
      "object_fit": null,
      "object_position": null,
      "order": null,
      "overflow": null,
      "overflow_x": null,
      "overflow_y": null,
      "padding": null,
      "right": null,
      "top": null,
      "visibility": null,
      "width": null
     }
    },
    "7ba1d6f2556f4497ae93d7ba6fad5e5b": {
     "model_module": "@jupyter-widgets/controls",
     "model_module_version": "1.5.0",
     "model_name": "FloatProgressModel",
     "state": {
      "_dom_classes": [],
      "_model_module": "@jupyter-widgets/controls",
      "_model_module_version": "1.5.0",
      "_model_name": "FloatProgressModel",
      "_view_count": null,
      "_view_module": "@jupyter-widgets/controls",
      "_view_module_version": "1.5.0",
      "_view_name": "ProgressView",
      "bar_style": "success",
      "description": "",
      "description_tooltip": null,
      "layout": "IPY_MODEL_4af67747dd304fe398f8dd678b4d53e3",
      "max": 6104,
      "min": 0,
      "orientation": "horizontal",
      "style": "IPY_MODEL_4afdf7bfcf1845de9f3ed0bd87deacfa",
      "value": 6104
     }
    },
    "7d80ea01e2c34869b2103c2e70f6f158": {
     "model_module": "@jupyter-widgets/base",
     "model_module_version": "1.2.0",
     "model_name": "LayoutModel",
     "state": {
      "_model_module": "@jupyter-widgets/base",
      "_model_module_version": "1.2.0",
      "_model_name": "LayoutModel",
      "_view_count": null,
      "_view_module": "@jupyter-widgets/base",
      "_view_module_version": "1.2.0",
      "_view_name": "LayoutView",
      "align_content": null,
      "align_items": null,
      "align_self": null,
      "border": null,
      "bottom": null,
      "display": null,
      "flex": null,
      "flex_flow": null,
      "grid_area": null,
      "grid_auto_columns": null,
      "grid_auto_flow": null,
      "grid_auto_rows": null,
      "grid_column": null,
      "grid_gap": null,
      "grid_row": null,
      "grid_template_areas": null,
      "grid_template_columns": null,
      "grid_template_rows": null,
      "height": null,
      "justify_content": null,
      "justify_items": null,
      "left": null,
      "margin": null,
      "max_height": null,
      "max_width": null,
      "min_height": null,
      "min_width": null,
      "object_fit": null,
      "object_position": null,
      "order": null,
      "overflow": null,
      "overflow_x": null,
      "overflow_y": null,
      "padding": null,
      "right": null,
      "top": null,
      "visibility": null,
      "width": null
     }
    },
    "7fc2faab1c5341daac948c06b0092586": {
     "model_module": "@jupyter-widgets/base",
     "model_module_version": "1.2.0",
     "model_name": "LayoutModel",
     "state": {
      "_model_module": "@jupyter-widgets/base",
      "_model_module_version": "1.2.0",
      "_model_name": "LayoutModel",
      "_view_count": null,
      "_view_module": "@jupyter-widgets/base",
      "_view_module_version": "1.2.0",
      "_view_name": "LayoutView",
      "align_content": null,
      "align_items": null,
      "align_self": null,
      "border": null,
      "bottom": null,
      "display": null,
      "flex": null,
      "flex_flow": null,
      "grid_area": null,
      "grid_auto_columns": null,
      "grid_auto_flow": null,
      "grid_auto_rows": null,
      "grid_column": null,
      "grid_gap": null,
      "grid_row": null,
      "grid_template_areas": null,
      "grid_template_columns": null,
      "grid_template_rows": null,
      "height": null,
      "justify_content": null,
      "justify_items": null,
      "left": null,
      "margin": null,
      "max_height": null,
      "max_width": null,
      "min_height": null,
      "min_width": null,
      "object_fit": null,
      "object_position": null,
      "order": null,
      "overflow": null,
      "overflow_x": null,
      "overflow_y": null,
      "padding": null,
      "right": null,
      "top": null,
      "visibility": null,
      "width": null
     }
    },
    "815dd47655b9406b9e57f8fa25b01959": {
     "model_module": "@jupyter-widgets/controls",
     "model_module_version": "1.5.0",
     "model_name": "DescriptionStyleModel",
     "state": {
      "_model_module": "@jupyter-widgets/controls",
      "_model_module_version": "1.5.0",
      "_model_name": "DescriptionStyleModel",
      "_view_count": null,
      "_view_module": "@jupyter-widgets/base",
      "_view_module_version": "1.2.0",
      "_view_name": "StyleView",
      "description_width": ""
     }
    },
    "84897e3d6a764a9493f5abbcff54b1c1": {
     "model_module": "@jupyter-widgets/base",
     "model_module_version": "1.2.0",
     "model_name": "LayoutModel",
     "state": {
      "_model_module": "@jupyter-widgets/base",
      "_model_module_version": "1.2.0",
      "_model_name": "LayoutModel",
      "_view_count": null,
      "_view_module": "@jupyter-widgets/base",
      "_view_module_version": "1.2.0",
      "_view_name": "LayoutView",
      "align_content": null,
      "align_items": null,
      "align_self": null,
      "border": null,
      "bottom": null,
      "display": null,
      "flex": null,
      "flex_flow": null,
      "grid_area": null,
      "grid_auto_columns": null,
      "grid_auto_flow": null,
      "grid_auto_rows": null,
      "grid_column": null,
      "grid_gap": null,
      "grid_row": null,
      "grid_template_areas": null,
      "grid_template_columns": null,
      "grid_template_rows": null,
      "height": null,
      "justify_content": null,
      "justify_items": null,
      "left": null,
      "margin": null,
      "max_height": null,
      "max_width": null,
      "min_height": null,
      "min_width": null,
      "object_fit": null,
      "object_position": null,
      "order": null,
      "overflow": null,
      "overflow_x": null,
      "overflow_y": null,
      "padding": null,
      "right": null,
      "top": null,
      "visibility": null,
      "width": null
     }
    },
    "864407e9ba174d0e9d1fdd51f5aa8797": {
     "model_module": "@jupyter-widgets/controls",
     "model_module_version": "1.5.0",
     "model_name": "DescriptionStyleModel",
     "state": {
      "_model_module": "@jupyter-widgets/controls",
      "_model_module_version": "1.5.0",
      "_model_name": "DescriptionStyleModel",
      "_view_count": null,
      "_view_module": "@jupyter-widgets/base",
      "_view_module_version": "1.2.0",
      "_view_name": "StyleView",
      "description_width": ""
     }
    },
    "8700a5118d8840c8a63cf2706c4fadc2": {
     "model_module": "@jupyter-widgets/controls",
     "model_module_version": "1.5.0",
     "model_name": "FloatProgressModel",
     "state": {
      "_dom_classes": [],
      "_model_module": "@jupyter-widgets/controls",
      "_model_module_version": "1.5.0",
      "_model_name": "FloatProgressModel",
      "_view_count": null,
      "_view_module": "@jupyter-widgets/controls",
      "_view_module_version": "1.5.0",
      "_view_name": "ProgressView",
      "bar_style": "success",
      "description": "",
      "description_tooltip": null,
      "layout": "IPY_MODEL_d5732855ac2a4dc7acc80ff511863e5b",
      "max": 770,
      "min": 0,
      "orientation": "horizontal",
      "style": "IPY_MODEL_b97101ae88684e7b9763cd8941bd3645",
      "value": 770
     }
    },
    "88231b8d1f3745efac3e4900203cafd1": {
     "model_module": "@jupyter-widgets/base",
     "model_module_version": "1.2.0",
     "model_name": "LayoutModel",
     "state": {
      "_model_module": "@jupyter-widgets/base",
      "_model_module_version": "1.2.0",
      "_model_name": "LayoutModel",
      "_view_count": null,
      "_view_module": "@jupyter-widgets/base",
      "_view_module_version": "1.2.0",
      "_view_name": "LayoutView",
      "align_content": null,
      "align_items": null,
      "align_self": null,
      "border": null,
      "bottom": null,
      "display": null,
      "flex": null,
      "flex_flow": null,
      "grid_area": null,
      "grid_auto_columns": null,
      "grid_auto_flow": null,
      "grid_auto_rows": null,
      "grid_column": null,
      "grid_gap": null,
      "grid_row": null,
      "grid_template_areas": null,
      "grid_template_columns": null,
      "grid_template_rows": null,
      "height": null,
      "justify_content": null,
      "justify_items": null,
      "left": null,
      "margin": null,
      "max_height": null,
      "max_width": null,
      "min_height": null,
      "min_width": null,
      "object_fit": null,
      "object_position": null,
      "order": null,
      "overflow": null,
      "overflow_x": null,
      "overflow_y": null,
      "padding": null,
      "right": null,
      "top": null,
      "visibility": null,
      "width": null
     }
    },
    "88b5013facf54e838605dba56318d33e": {
     "model_module": "@jupyter-widgets/controls",
     "model_module_version": "1.5.0",
     "model_name": "HTMLModel",
     "state": {
      "_dom_classes": [],
      "_model_module": "@jupyter-widgets/controls",
      "_model_module_version": "1.5.0",
      "_model_name": "HTMLModel",
      "_view_count": null,
      "_view_module": "@jupyter-widgets/controls",
      "_view_module_version": "1.5.0",
      "_view_name": "HTMLView",
      "description": "",
      "description_tooltip": null,
      "layout": "IPY_MODEL_e415ef78e4b94fb2b5f0d0fe82fefbd8",
      "placeholder": "​",
      "style": "IPY_MODEL_07fa7807243a4aee865cf30d8760ea95",
      "value": " 160/160 [00:00&lt;00:00, 13.1kB/s]"
     }
    },
    "998de967e7a64655a85d63de35f7d72f": {
     "model_module": "@jupyter-widgets/controls",
     "model_module_version": "1.5.0",
     "model_name": "ProgressStyleModel",
     "state": {
      "_model_module": "@jupyter-widgets/controls",
      "_model_module_version": "1.5.0",
      "_model_name": "ProgressStyleModel",
      "_view_count": null,
      "_view_module": "@jupyter-widgets/base",
      "_view_module_version": "1.2.0",
      "_view_name": "StyleView",
      "bar_color": null,
      "description_width": ""
     }
    },
    "99d0c765c4cb46199535d9298c31b079": {
     "model_module": "@jupyter-widgets/controls",
     "model_module_version": "1.5.0",
     "model_name": "HTMLModel",
     "state": {
      "_dom_classes": [],
      "_model_module": "@jupyter-widgets/controls",
      "_model_module_version": "1.5.0",
      "_model_name": "HTMLModel",
      "_view_count": null,
      "_view_module": "@jupyter-widgets/controls",
      "_view_module_version": "1.5.0",
      "_view_name": "HTMLView",
      "description": "",
      "description_tooltip": null,
      "layout": "IPY_MODEL_3cdcfaae444b4390801ce89df217a381",
      "placeholder": "​",
      "style": "IPY_MODEL_dd21d801a1764f7baae0d44eae5baf13",
      "value": " 6104/6104 [01:51&lt;00:00, 55.10 examples/s]"
     }
    },
    "a2cb7c0763db47279656a777fae6d9e8": {
     "model_module": "@jupyter-widgets/controls",
     "model_module_version": "1.5.0",
     "model_name": "HBoxModel",
     "state": {
      "_dom_classes": [],
      "_model_module": "@jupyter-widgets/controls",
      "_model_module_version": "1.5.0",
      "_model_name": "HBoxModel",
      "_view_count": null,
      "_view_module": "@jupyter-widgets/controls",
      "_view_module_version": "1.5.0",
      "_view_name": "HBoxView",
      "box_style": "",
      "children": [
       "IPY_MODEL_bd16d9050aaf49f9870753b80c3e3112",
       "IPY_MODEL_ec8ae8be3c27443cb33d75dbe93f02c8",
       "IPY_MODEL_04a05c4ab4c7481b988edf3bd889081f"
      ],
      "layout": "IPY_MODEL_63da637a5f354b488f017fbf517fc6cb"
     }
    },
    "aac5bfde022442418a05090e4eee0013": {
     "model_module": "@jupyter-widgets/controls",
     "model_module_version": "1.5.0",
     "model_name": "HTMLModel",
     "state": {
      "_dom_classes": [],
      "_model_module": "@jupyter-widgets/controls",
      "_model_module_version": "1.5.0",
      "_model_name": "HTMLModel",
      "_view_count": null,
      "_view_module": "@jupyter-widgets/controls",
      "_view_module_version": "1.5.0",
      "_view_name": "HTMLView",
      "description": "",
      "description_tooltip": null,
      "layout": "IPY_MODEL_c32ce617465f43c1850cf86d870c1946",
      "placeholder": "​",
      "style": "IPY_MODEL_5f945a8dda904eefa8076e341ec33c77",
      "value": " 784/784 [00:05&lt;00:00, 130.42 examples/s]"
     }
    },
    "acf43ad6790a4b029417fc0d875e03ee": {
     "model_module": "@jupyter-widgets/controls",
     "model_module_version": "1.5.0",
     "model_name": "HTMLModel",
     "state": {
      "_dom_classes": [],
      "_model_module": "@jupyter-widgets/controls",
      "_model_module_version": "1.5.0",
      "_model_name": "HTMLModel",
      "_view_count": null,
      "_view_module": "@jupyter-widgets/controls",
      "_view_module_version": "1.5.0",
      "_view_name": "HTMLView",
      "description": "",
      "description_tooltip": null,
      "layout": "IPY_MODEL_ba8dd68cb8304e57b49e22960e32502a",
      "placeholder": "​",
      "style": "IPY_MODEL_1f6a22452ad247fd93142e23ae2cea58",
      "value": "Saving the dataset (2/2 shards): 100%"
     }
    },
    "b6a9478e58cd4d2b9176925cefda69e4": {
     "model_module": "@jupyter-widgets/controls",
     "model_module_version": "1.5.0",
     "model_name": "DescriptionStyleModel",
     "state": {
      "_model_module": "@jupyter-widgets/controls",
      "_model_module_version": "1.5.0",
      "_model_name": "DescriptionStyleModel",
      "_view_count": null,
      "_view_module": "@jupyter-widgets/base",
      "_view_module_version": "1.2.0",
      "_view_name": "StyleView",
      "description_width": ""
     }
    },
    "b75fae4c631949618b46b072ed444465": {
     "model_module": "@jupyter-widgets/base",
     "model_module_version": "1.2.0",
     "model_name": "LayoutModel",
     "state": {
      "_model_module": "@jupyter-widgets/base",
      "_model_module_version": "1.2.0",
      "_model_name": "LayoutModel",
      "_view_count": null,
      "_view_module": "@jupyter-widgets/base",
      "_view_module_version": "1.2.0",
      "_view_name": "LayoutView",
      "align_content": null,
      "align_items": null,
      "align_self": null,
      "border": null,
      "bottom": null,
      "display": null,
      "flex": null,
      "flex_flow": null,
      "grid_area": null,
      "grid_auto_columns": null,
      "grid_auto_flow": null,
      "grid_auto_rows": null,
      "grid_column": null,
      "grid_gap": null,
      "grid_row": null,
      "grid_template_areas": null,
      "grid_template_columns": null,
      "grid_template_rows": null,
      "height": null,
      "justify_content": null,
      "justify_items": null,
      "left": null,
      "margin": null,
      "max_height": null,
      "max_width": null,
      "min_height": null,
      "min_width": null,
      "object_fit": null,
      "object_position": null,
      "order": null,
      "overflow": null,
      "overflow_x": null,
      "overflow_y": null,
      "padding": null,
      "right": null,
      "top": null,
      "visibility": null,
      "width": null
     }
    },
    "b91d683bdf16488cb098469432f165c3": {
     "model_module": "@jupyter-widgets/base",
     "model_module_version": "1.2.0",
     "model_name": "LayoutModel",
     "state": {
      "_model_module": "@jupyter-widgets/base",
      "_model_module_version": "1.2.0",
      "_model_name": "LayoutModel",
      "_view_count": null,
      "_view_module": "@jupyter-widgets/base",
      "_view_module_version": "1.2.0",
      "_view_name": "LayoutView",
      "align_content": null,
      "align_items": null,
      "align_self": null,
      "border": null,
      "bottom": null,
      "display": null,
      "flex": null,
      "flex_flow": null,
      "grid_area": null,
      "grid_auto_columns": null,
      "grid_auto_flow": null,
      "grid_auto_rows": null,
      "grid_column": null,
      "grid_gap": null,
      "grid_row": null,
      "grid_template_areas": null,
      "grid_template_columns": null,
      "grid_template_rows": null,
      "height": null,
      "justify_content": null,
      "justify_items": null,
      "left": null,
      "margin": null,
      "max_height": null,
      "max_width": null,
      "min_height": null,
      "min_width": null,
      "object_fit": null,
      "object_position": null,
      "order": null,
      "overflow": null,
      "overflow_x": null,
      "overflow_y": null,
      "padding": null,
      "right": null,
      "top": null,
      "visibility": null,
      "width": null
     }
    },
    "b97101ae88684e7b9763cd8941bd3645": {
     "model_module": "@jupyter-widgets/controls",
     "model_module_version": "1.5.0",
     "model_name": "ProgressStyleModel",
     "state": {
      "_model_module": "@jupyter-widgets/controls",
      "_model_module_version": "1.5.0",
      "_model_name": "ProgressStyleModel",
      "_view_count": null,
      "_view_module": "@jupyter-widgets/base",
      "_view_module_version": "1.2.0",
      "_view_name": "StyleView",
      "bar_color": null,
      "description_width": ""
     }
    },
    "ba8dd68cb8304e57b49e22960e32502a": {
     "model_module": "@jupyter-widgets/base",
     "model_module_version": "1.2.0",
     "model_name": "LayoutModel",
     "state": {
      "_model_module": "@jupyter-widgets/base",
      "_model_module_version": "1.2.0",
      "_model_name": "LayoutModel",
      "_view_count": null,
      "_view_module": "@jupyter-widgets/base",
      "_view_module_version": "1.2.0",
      "_view_name": "LayoutView",
      "align_content": null,
      "align_items": null,
      "align_self": null,
      "border": null,
      "bottom": null,
      "display": null,
      "flex": null,
      "flex_flow": null,
      "grid_area": null,
      "grid_auto_columns": null,
      "grid_auto_flow": null,
      "grid_auto_rows": null,
      "grid_column": null,
      "grid_gap": null,
      "grid_row": null,
      "grid_template_areas": null,
      "grid_template_columns": null,
      "grid_template_rows": null,
      "height": null,
      "justify_content": null,
      "justify_items": null,
      "left": null,
      "margin": null,
      "max_height": null,
      "max_width": null,
      "min_height": null,
      "min_width": null,
      "object_fit": null,
      "object_position": null,
      "order": null,
      "overflow": null,
      "overflow_x": null,
      "overflow_y": null,
      "padding": null,
      "right": null,
      "top": null,
      "visibility": null,
      "width": null
     }
    },
    "bd16d9050aaf49f9870753b80c3e3112": {
     "model_module": "@jupyter-widgets/controls",
     "model_module_version": "1.5.0",
     "model_name": "HTMLModel",
     "state": {
      "_dom_classes": [],
      "_model_module": "@jupyter-widgets/controls",
      "_model_module_version": "1.5.0",
      "_model_name": "HTMLModel",
      "_view_count": null,
      "_view_module": "@jupyter-widgets/controls",
      "_view_module_version": "1.5.0",
      "_view_name": "HTMLView",
      "description": "",
      "description_tooltip": null,
      "layout": "IPY_MODEL_3656777d4a07429e9e894e560e618f0c",
      "placeholder": "​",
      "style": "IPY_MODEL_b6a9478e58cd4d2b9176925cefda69e4",
      "value": "Saving the dataset (9/9 shards): 100%"
     }
    },
    "c32ce617465f43c1850cf86d870c1946": {
     "model_module": "@jupyter-widgets/base",
     "model_module_version": "1.2.0",
     "model_name": "LayoutModel",
     "state": {
      "_model_module": "@jupyter-widgets/base",
      "_model_module_version": "1.2.0",
      "_model_name": "LayoutModel",
      "_view_count": null,
      "_view_module": "@jupyter-widgets/base",
      "_view_module_version": "1.2.0",
      "_view_name": "LayoutView",
      "align_content": null,
      "align_items": null,
      "align_self": null,
      "border": null,
      "bottom": null,
      "display": null,
      "flex": null,
      "flex_flow": null,
      "grid_area": null,
      "grid_auto_columns": null,
      "grid_auto_flow": null,
      "grid_auto_rows": null,
      "grid_column": null,
      "grid_gap": null,
      "grid_row": null,
      "grid_template_areas": null,
      "grid_template_columns": null,
      "grid_template_rows": null,
      "height": null,
      "justify_content": null,
      "justify_items": null,
      "left": null,
      "margin": null,
      "max_height": null,
      "max_width": null,
      "min_height": null,
      "min_width": null,
      "object_fit": null,
      "object_position": null,
      "order": null,
      "overflow": null,
      "overflow_x": null,
      "overflow_y": null,
      "padding": null,
      "right": null,
      "top": null,
      "visibility": null,
      "width": null
     }
    },
    "cc1f104f6eec4095b86ddc2e17226b9a": {
     "model_module": "@jupyter-widgets/base",
     "model_module_version": "1.2.0",
     "model_name": "LayoutModel",
     "state": {
      "_model_module": "@jupyter-widgets/base",
      "_model_module_version": "1.2.0",
      "_model_name": "LayoutModel",
      "_view_count": null,
      "_view_module": "@jupyter-widgets/base",
      "_view_module_version": "1.2.0",
      "_view_name": "LayoutView",
      "align_content": null,
      "align_items": null,
      "align_self": null,
      "border": null,
      "bottom": null,
      "display": null,
      "flex": null,
      "flex_flow": null,
      "grid_area": null,
      "grid_auto_columns": null,
      "grid_auto_flow": null,
      "grid_auto_rows": null,
      "grid_column": null,
      "grid_gap": null,
      "grid_row": null,
      "grid_template_areas": null,
      "grid_template_columns": null,
      "grid_template_rows": null,
      "height": null,
      "justify_content": null,
      "justify_items": null,
      "left": null,
      "margin": null,
      "max_height": null,
      "max_width": null,
      "min_height": null,
      "min_width": null,
      "object_fit": null,
      "object_position": null,
      "order": null,
      "overflow": null,
      "overflow_x": null,
      "overflow_y": null,
      "padding": null,
      "right": null,
      "top": null,
      "visibility": null,
      "width": null
     }
    },
    "ce642211f7aa46bb81b3bc9d3d881abb": {
     "model_module": "@jupyter-widgets/base",
     "model_module_version": "1.2.0",
     "model_name": "LayoutModel",
     "state": {
      "_model_module": "@jupyter-widgets/base",
      "_model_module_version": "1.2.0",
      "_model_name": "LayoutModel",
      "_view_count": null,
      "_view_module": "@jupyter-widgets/base",
      "_view_module_version": "1.2.0",
      "_view_name": "LayoutView",
      "align_content": null,
      "align_items": null,
      "align_self": null,
      "border": null,
      "bottom": null,
      "display": null,
      "flex": null,
      "flex_flow": null,
      "grid_area": null,
      "grid_auto_columns": null,
      "grid_auto_flow": null,
      "grid_auto_rows": null,
      "grid_column": null,
      "grid_gap": null,
      "grid_row": null,
      "grid_template_areas": null,
      "grid_template_columns": null,
      "grid_template_rows": null,
      "height": null,
      "justify_content": null,
      "justify_items": null,
      "left": null,
      "margin": null,
      "max_height": null,
      "max_width": null,
      "min_height": null,
      "min_width": null,
      "object_fit": null,
      "object_position": null,
      "order": null,
      "overflow": null,
      "overflow_x": null,
      "overflow_y": null,
      "padding": null,
      "right": null,
      "top": null,
      "visibility": null,
      "width": null
     }
    },
    "d4e5eb7290884d4a87399aa900b7383f": {
     "model_module": "@jupyter-widgets/controls",
     "model_module_version": "1.5.0",
     "model_name": "HBoxModel",
     "state": {
      "_dom_classes": [],
      "_model_module": "@jupyter-widgets/controls",
      "_model_module_version": "1.5.0",
      "_model_name": "HBoxModel",
      "_view_count": null,
      "_view_module": "@jupyter-widgets/controls",
      "_view_module_version": "1.5.0",
      "_view_name": "HBoxView",
      "box_style": "",
      "children": [
       "IPY_MODEL_acf43ad6790a4b029417fc0d875e03ee",
       "IPY_MODEL_68cb0b0408724dcc9824c3b2b2964a4c",
       "IPY_MODEL_aac5bfde022442418a05090e4eee0013"
      ],
      "layout": "IPY_MODEL_f483ad67eaac438787a8e0f1ee034d4f"
     }
    },
    "d5732855ac2a4dc7acc80ff511863e5b": {
     "model_module": "@jupyter-widgets/base",
     "model_module_version": "1.2.0",
     "model_name": "LayoutModel",
     "state": {
      "_model_module": "@jupyter-widgets/base",
      "_model_module_version": "1.2.0",
      "_model_name": "LayoutModel",
      "_view_count": null,
      "_view_module": "@jupyter-widgets/base",
      "_view_module_version": "1.2.0",
      "_view_name": "LayoutView",
      "align_content": null,
      "align_items": null,
      "align_self": null,
      "border": null,
      "bottom": null,
      "display": null,
      "flex": null,
      "flex_flow": null,
      "grid_area": null,
      "grid_auto_columns": null,
      "grid_auto_flow": null,
      "grid_auto_rows": null,
      "grid_column": null,
      "grid_gap": null,
      "grid_row": null,
      "grid_template_areas": null,
      "grid_template_columns": null,
      "grid_template_rows": null,
      "height": null,
      "justify_content": null,
      "justify_items": null,
      "left": null,
      "margin": null,
      "max_height": null,
      "max_width": null,
      "min_height": null,
      "min_width": null,
      "object_fit": null,
      "object_position": null,
      "order": null,
      "overflow": null,
      "overflow_x": null,
      "overflow_y": null,
      "padding": null,
      "right": null,
      "top": null,
      "visibility": null,
      "width": null
     }
    },
    "d82a83562c4e4845b6a11088de0184c8": {
     "model_module": "@jupyter-widgets/base",
     "model_module_version": "1.2.0",
     "model_name": "LayoutModel",
     "state": {
      "_model_module": "@jupyter-widgets/base",
      "_model_module_version": "1.2.0",
      "_model_name": "LayoutModel",
      "_view_count": null,
      "_view_module": "@jupyter-widgets/base",
      "_view_module_version": "1.2.0",
      "_view_name": "LayoutView",
      "align_content": null,
      "align_items": null,
      "align_self": null,
      "border": null,
      "bottom": null,
      "display": null,
      "flex": null,
      "flex_flow": null,
      "grid_area": null,
      "grid_auto_columns": null,
      "grid_auto_flow": null,
      "grid_auto_rows": null,
      "grid_column": null,
      "grid_gap": null,
      "grid_row": null,
      "grid_template_areas": null,
      "grid_template_columns": null,
      "grid_template_rows": null,
      "height": null,
      "justify_content": null,
      "justify_items": null,
      "left": null,
      "margin": null,
      "max_height": null,
      "max_width": null,
      "min_height": null,
      "min_width": null,
      "object_fit": null,
      "object_position": null,
      "order": null,
      "overflow": null,
      "overflow_x": null,
      "overflow_y": null,
      "padding": null,
      "right": null,
      "top": null,
      "visibility": null,
      "width": null
     }
    },
    "da36cc0a40854dac9473cb1fe8872e24": {
     "model_module": "@jupyter-widgets/controls",
     "model_module_version": "1.5.0",
     "model_name": "HTMLModel",
     "state": {
      "_dom_classes": [],
      "_model_module": "@jupyter-widgets/controls",
      "_model_module_version": "1.5.0",
      "_model_name": "HTMLModel",
      "_view_count": null,
      "_view_module": "@jupyter-widgets/controls",
      "_view_module_version": "1.5.0",
      "_view_name": "HTMLView",
      "description": "",
      "description_tooltip": null,
      "layout": "IPY_MODEL_88231b8d1f3745efac3e4900203cafd1",
      "placeholder": "​",
      "style": "IPY_MODEL_ee4abda0a8414325acd3fffdc428f81c",
      "value": "Map: 100%"
     }
    },
    "dd21d801a1764f7baae0d44eae5baf13": {
     "model_module": "@jupyter-widgets/controls",
     "model_module_version": "1.5.0",
     "model_name": "DescriptionStyleModel",
     "state": {
      "_model_module": "@jupyter-widgets/controls",
      "_model_module_version": "1.5.0",
      "_model_name": "DescriptionStyleModel",
      "_view_count": null,
      "_view_module": "@jupyter-widgets/base",
      "_view_module_version": "1.2.0",
      "_view_name": "StyleView",
      "description_width": ""
     }
    },
    "e285b3faccd544fbbc77303541520717": {
     "model_module": "@jupyter-widgets/controls",
     "model_module_version": "1.5.0",
     "model_name": "HBoxModel",
     "state": {
      "_dom_classes": [],
      "_model_module": "@jupyter-widgets/controls",
      "_model_module_version": "1.5.0",
      "_model_name": "HBoxModel",
      "_view_count": null,
      "_view_module": "@jupyter-widgets/controls",
      "_view_module_version": "1.5.0",
      "_view_name": "HBoxView",
      "box_style": "",
      "children": [
       "IPY_MODEL_da36cc0a40854dac9473cb1fe8872e24",
       "IPY_MODEL_eb3d0cef340e40eb8779d95c2190eb7a",
       "IPY_MODEL_59925182527f4c8280e378d8fefb7926"
      ],
      "layout": "IPY_MODEL_3ae3c85c361941778384e9662a03cdf6"
     }
    },
    "e415ef78e4b94fb2b5f0d0fe82fefbd8": {
     "model_module": "@jupyter-widgets/base",
     "model_module_version": "1.2.0",
     "model_name": "LayoutModel",
     "state": {
      "_model_module": "@jupyter-widgets/base",
      "_model_module_version": "1.2.0",
      "_model_name": "LayoutModel",
      "_view_count": null,
      "_view_module": "@jupyter-widgets/base",
      "_view_module_version": "1.2.0",
      "_view_name": "LayoutView",
      "align_content": null,
      "align_items": null,
      "align_self": null,
      "border": null,
      "bottom": null,
      "display": null,
      "flex": null,
      "flex_flow": null,
      "grid_area": null,
      "grid_auto_columns": null,
      "grid_auto_flow": null,
      "grid_auto_rows": null,
      "grid_column": null,
      "grid_gap": null,
      "grid_row": null,
      "grid_template_areas": null,
      "grid_template_columns": null,
      "grid_template_rows": null,
      "height": null,
      "justify_content": null,
      "justify_items": null,
      "left": null,
      "margin": null,
      "max_height": null,
      "max_width": null,
      "min_height": null,
      "min_width": null,
      "object_fit": null,
      "object_position": null,
      "order": null,
      "overflow": null,
      "overflow_x": null,
      "overflow_y": null,
      "padding": null,
      "right": null,
      "top": null,
      "visibility": null,
      "width": null
     }
    },
    "e60ef0cd2c01411c9e0d04e3ba002ec8": {
     "model_module": "@jupyter-widgets/controls",
     "model_module_version": "1.5.0",
     "model_name": "HTMLModel",
     "state": {
      "_dom_classes": [],
      "_model_module": "@jupyter-widgets/controls",
      "_model_module_version": "1.5.0",
      "_model_name": "HTMLModel",
      "_view_count": null,
      "_view_module": "@jupyter-widgets/controls",
      "_view_module_version": "1.5.0",
      "_view_name": "HTMLView",
      "description": "",
      "description_tooltip": null,
      "layout": "IPY_MODEL_ce642211f7aa46bb81b3bc9d3d881abb",
      "placeholder": "​",
      "style": "IPY_MODEL_864407e9ba174d0e9d1fdd51f5aa8797",
      "value": "Saving the dataset (2/2 shards): 100%"
     }
    },
    "eb3d0cef340e40eb8779d95c2190eb7a": {
     "model_module": "@jupyter-widgets/controls",
     "model_module_version": "1.5.0",
     "model_name": "FloatProgressModel",
     "state": {
      "_dom_classes": [],
      "_model_module": "@jupyter-widgets/controls",
      "_model_module_version": "1.5.0",
      "_model_name": "FloatProgressModel",
      "_view_count": null,
      "_view_module": "@jupyter-widgets/controls",
      "_view_module_version": "1.5.0",
      "_view_name": "ProgressView",
      "bar_style": "success",
      "description": "",
      "description_tooltip": null,
      "layout": "IPY_MODEL_3cfc09a2b94646d88dfc9a46993500c1",
      "max": 784,
      "min": 0,
      "orientation": "horizontal",
      "style": "IPY_MODEL_307bf003b83a42e185b24297fa613516",
      "value": 784
     }
    },
    "ec8ae8be3c27443cb33d75dbe93f02c8": {
     "model_module": "@jupyter-widgets/controls",
     "model_module_version": "1.5.0",
     "model_name": "FloatProgressModel",
     "state": {
      "_dom_classes": [],
      "_model_module": "@jupyter-widgets/controls",
      "_model_module_version": "1.5.0",
      "_model_name": "FloatProgressModel",
      "_view_count": null,
      "_view_module": "@jupyter-widgets/controls",
      "_view_module_version": "1.5.0",
      "_view_name": "ProgressView",
      "bar_style": "success",
      "description": "",
      "description_tooltip": null,
      "layout": "IPY_MODEL_43bd71095543490f9575f25fd325bf7e",
      "max": 6104,
      "min": 0,
      "orientation": "horizontal",
      "style": "IPY_MODEL_45d9b025a94e4aa480ead1ef651a3bd4",
      "value": 6104
     }
    },
    "ee4abda0a8414325acd3fffdc428f81c": {
     "model_module": "@jupyter-widgets/controls",
     "model_module_version": "1.5.0",
     "model_name": "DescriptionStyleModel",
     "state": {
      "_model_module": "@jupyter-widgets/controls",
      "_model_module_version": "1.5.0",
      "_model_name": "DescriptionStyleModel",
      "_view_count": null,
      "_view_module": "@jupyter-widgets/base",
      "_view_module_version": "1.2.0",
      "_view_name": "StyleView",
      "description_width": ""
     }
    },
    "ef719b411a6347d78c6bf683a8d6978b": {
     "model_module": "@jupyter-widgets/controls",
     "model_module_version": "1.5.0",
     "model_name": "DescriptionStyleModel",
     "state": {
      "_model_module": "@jupyter-widgets/controls",
      "_model_module_version": "1.5.0",
      "_model_name": "DescriptionStyleModel",
      "_view_count": null,
      "_view_module": "@jupyter-widgets/base",
      "_view_module_version": "1.2.0",
      "_view_name": "StyleView",
      "description_width": ""
     }
    },
    "f1fb10bf90724b3bb50de59a477924e7": {
     "model_module": "@jupyter-widgets/controls",
     "model_module_version": "1.5.0",
     "model_name": "DescriptionStyleModel",
     "state": {
      "_model_module": "@jupyter-widgets/controls",
      "_model_module_version": "1.5.0",
      "_model_name": "DescriptionStyleModel",
      "_view_count": null,
      "_view_module": "@jupyter-widgets/base",
      "_view_module_version": "1.2.0",
      "_view_name": "StyleView",
      "description_width": ""
     }
    },
    "f483ad67eaac438787a8e0f1ee034d4f": {
     "model_module": "@jupyter-widgets/base",
     "model_module_version": "1.2.0",
     "model_name": "LayoutModel",
     "state": {
      "_model_module": "@jupyter-widgets/base",
      "_model_module_version": "1.2.0",
      "_model_name": "LayoutModel",
      "_view_count": null,
      "_view_module": "@jupyter-widgets/base",
      "_view_module_version": "1.2.0",
      "_view_name": "LayoutView",
      "align_content": null,
      "align_items": null,
      "align_self": null,
      "border": null,
      "bottom": null,
      "display": null,
      "flex": null,
      "flex_flow": null,
      "grid_area": null,
      "grid_auto_columns": null,
      "grid_auto_flow": null,
      "grid_auto_rows": null,
      "grid_column": null,
      "grid_gap": null,
      "grid_row": null,
      "grid_template_areas": null,
      "grid_template_columns": null,
      "grid_template_rows": null,
      "height": null,
      "justify_content": null,
      "justify_items": null,
      "left": null,
      "margin": null,
      "max_height": null,
      "max_width": null,
      "min_height": null,
      "min_width": null,
      "object_fit": null,
      "object_position": null,
      "order": null,
      "overflow": null,
      "overflow_x": null,
      "overflow_y": null,
      "padding": null,
      "right": null,
      "top": null,
      "visibility": null,
      "width": null
     }
    },
    "fb3f4ff41a814a84a7de6f09bad4f11a": {
     "model_module": "@jupyter-widgets/controls",
     "model_module_version": "1.5.0",
     "model_name": "HTMLModel",
     "state": {
      "_dom_classes": [],
      "_model_module": "@jupyter-widgets/controls",
      "_model_module_version": "1.5.0",
      "_model_name": "HTMLModel",
      "_view_count": null,
      "_view_module": "@jupyter-widgets/controls",
      "_view_module_version": "1.5.0",
      "_view_name": "HTMLView",
      "description": "",
      "description_tooltip": null,
      "layout": "IPY_MODEL_2bda218cf4ca4916a6d47386e79011e8",
      "placeholder": "​",
      "style": "IPY_MODEL_815dd47655b9406b9e57f8fa25b01959",
      "value": "Map: 100%"
     }
    },
    "fce771d6d7184ff8bb09f97ce8195a4e": {
     "model_module": "@jupyter-widgets/base",
     "model_module_version": "1.2.0",
     "model_name": "LayoutModel",
     "state": {
      "_model_module": "@jupyter-widgets/base",
      "_model_module_version": "1.2.0",
      "_model_name": "LayoutModel",
      "_view_count": null,
      "_view_module": "@jupyter-widgets/base",
      "_view_module_version": "1.2.0",
      "_view_name": "LayoutView",
      "align_content": null,
      "align_items": null,
      "align_self": null,
      "border": null,
      "bottom": null,
      "display": null,
      "flex": null,
      "flex_flow": null,
      "grid_area": null,
      "grid_auto_columns": null,
      "grid_auto_flow": null,
      "grid_auto_rows": null,
      "grid_column": null,
      "grid_gap": null,
      "grid_row": null,
      "grid_template_areas": null,
      "grid_template_columns": null,
      "grid_template_rows": null,
      "height": null,
      "justify_content": null,
      "justify_items": null,
      "left": null,
      "margin": null,
      "max_height": null,
      "max_width": null,
      "min_height": null,
      "min_width": null,
      "object_fit": null,
      "object_position": null,
      "order": null,
      "overflow": null,
      "overflow_x": null,
      "overflow_y": null,
      "padding": null,
      "right": null,
      "top": null,
      "visibility": null,
      "width": null
     }
    },
    "fd3c5384031d4e19b68f85cf528388fa": {
     "model_module": "@jupyter-widgets/controls",
     "model_module_version": "1.5.0",
     "model_name": "HTMLModel",
     "state": {
      "_dom_classes": [],
      "_model_module": "@jupyter-widgets/controls",
      "_model_module_version": "1.5.0",
      "_model_name": "HTMLModel",
      "_view_count": null,
      "_view_module": "@jupyter-widgets/controls",
      "_view_module_version": "1.5.0",
      "_view_name": "HTMLView",
      "description": "",
      "description_tooltip": null,
      "layout": "IPY_MODEL_d82a83562c4e4845b6a11088de0184c8",
      "placeholder": "​",
      "style": "IPY_MODEL_f1fb10bf90724b3bb50de59a477924e7",
      "value": "Map: 100%"
     }
    },
    "fef550f907f8487195b1cc8748c0e220": {
     "model_module": "@jupyter-widgets/controls",
     "model_module_version": "1.5.0",
     "model_name": "ProgressStyleModel",
     "state": {
      "_model_module": "@jupyter-widgets/controls",
      "_model_module_version": "1.5.0",
      "_model_name": "ProgressStyleModel",
      "_view_count": null,
      "_view_module": "@jupyter-widgets/base",
      "_view_module_version": "1.2.0",
      "_view_name": "StyleView",
      "bar_color": null,
      "description_width": ""
     }
    }
   }
  }
 },
 "nbformat": 4,
 "nbformat_minor": 0
}
